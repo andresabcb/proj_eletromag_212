{
 "cells": [
  {
   "cell_type": "markdown",
   "metadata": {},
   "source": [
    "# Projeto Eletromag 21.2\n",
    "\n",
    "## Ressonância magnética\n",
    "\n",
    "- Andresa Bicudo\n",
    "- Beatriz Cabral\n",
    "- Vitor Bandeira"
   ]
  },
  {
   "cell_type": "code",
   "execution_count": 73,
   "metadata": {},
   "outputs": [],
   "source": [
    "from math import *\n",
    "from cmath import *\n",
    "import numpy as np\n",
    "import matplotlib.pyplot as plt\n",
    "from numpy import linalg"
   ]
  },
  {
   "cell_type": "markdown",
   "metadata": {},
   "source": [
    "## Etapa 1:\n",
    "\n",
    "1) Elaboração do diagrama do modelo eletrodinâmico do circuito WPT\n",
    "\n",
    "2) Código do modelo numérico\n",
    "\n",
    "3) Construção de gráficos de I e I2 em função da frequência\n",
    "\n",
    "4) Construção de gráficos das potências e da eficiência em função da frequência"
   ]
  },
  {
   "cell_type": "markdown",
   "metadata": {},
   "source": [
    "### 1) Elaboração do diagrama do modelo eletrodinâmico do circuito WPT: \n",
    "\n",
    "Essa atividade consiste em especificar, por meio de um circuito, o modelo eletrodinâmico WPT usando abordagem fasorial. \n",
    "\n",
    "Para isso, o modelo eletrodinâmico do transformador deve ser adaptado de modo a considerar o parâmetro\n",
    "𝑘 e os capacitores 𝐶1 e 𝐶2, lembrando que 𝑪𝟏 deve estarsérie com a bobina primária, e 𝑪𝟐 em paralelo\n",
    "com a secundária; no projeto, vamos considerar que as bobinas transmissora e receptora sejam iguais,\n",
    "ou seja, 𝐿1 = 𝐿2. \n",
    "\n",
    "Do mesmo modo, os capacitores também devem ser iguais (𝐶1 = 𝐶2), de modo que a\n",
    "frequência de ressonância dos conjuntos 𝐿𝐶 seja a mesma no primário e secundário. \n",
    "\n",
    "Pesquise sobre como calcular a frequência de ressonância de um conjunto 𝐿𝐶.\n",
    "\n",
    "Referências:\n",
    "\n",
    "- https://www.youtube.com/watch?v=OwI0FXA-NIY"
   ]
  },
  {
   "cell_type": "markdown",
   "metadata": {},
   "source": [
    "w = 1/sqrt(w*C)"
   ]
  },
  {
   "cell_type": "code",
   "execution_count": 74,
   "metadata": {},
   "outputs": [
    {
     "name": "stdout",
     "output_type": "stream",
     "text": [
      "/bin/sh: -c: line 0: syntax error near unexpected token `./img/circ.pdf'\n",
      "/bin/sh: -c: line 0: `[Circuito](./img/circ.pdf)'\n"
     ]
    }
   ],
   "source": [
    "![Circuito](./img/circ.pdf)"
   ]
  },
  {
   "cell_type": "markdown",
   "metadata": {},
   "source": [
    "### 2) Código do modelo numérico: \n",
    "\n",
    "Essa atividade consiste em escrever um código em Python que simule o modelo esquematizado no item anterior.\n",
    "\n",
    "O código deve usar como parâmetros os valores das indutâncias, capacitâncias e resistências das bobinas primária e secundária (neste momento, usem valores quaisquer, mas razoáveis do ponto de vista físico). \n",
    "\n",
    "Recomenda-se a utilização, como ponto de partida, do código em Python usado no laboratório 2. \n",
    "\n",
    "Documente seu código explicando cada etapa do cálculo. \n",
    "\n",
    "Para as simulações iniciais, adotem valores razoáveis para indutâncias, frequência, resistências e capacitâncias a serem utilizados."
   ]
  },
  {
   "cell_type": "code",
   "execution_count": 75,
   "metadata": {},
   "outputs": [
    {
     "name": "stdout",
     "output_type": "stream",
     "text": [
      "A capacitância no primário C1 é de 1e-06 F (e está em série)\n",
      "A capacitância no secundário C2 é de 1e-06 F (e está em paralelo)\n",
      "\n",
      "A indutância no primário L1 é de 1e-06 H (e está em série)\n",
      "A indutância no secundário L2 é de 1e-06 H (e está em paralelo)\n"
     ]
    }
   ],
   "source": [
    "# Resistência da carga a ser utilizada\n",
    "RC = 10 # definir\n",
    "\n",
    "# Resistências internas das bobinas\n",
    "R1 = 1 # definir\n",
    "R2 = R1\n",
    "\n",
    "# Capacitâncias (dos capacitores que vão gerar o efeito de ressonância)\n",
    "C1 = 1e-6 # definir\n",
    "C2 = C1\n",
    "\n",
    "# Indutâncias (dos indutores que fazem parte da bobina)\n",
    "L1 = 1e-6 # definir\n",
    "L2 = L1\n",
    "\n",
    "# Indutância mútua\n",
    "M = math.sqrt(L1*L2)\n",
    "\n",
    "print(f\"A capacitância no primário C1 é de {C1} F (e está em série)\")\n",
    "print(f\"A capacitância no secundário C2 é de {C2} F (e está em paralelo)\\n\")\n",
    "\n",
    "print(f\"A indutância no primário L1 é de {L1} H (e está em série)\")\n",
    "print(f\"A indutância no secundário L2 é de {L2} H (e está em paralelo)\")"
   ]
  },
  {
   "cell_type": "code",
   "execution_count": 76,
   "metadata": {},
   "outputs": [
    {
     "name": "stdout",
     "output_type": "stream",
     "text": [
      "A reatância capacitiva no primário XC1 é de -361.71577975430756j\n",
      "A reatância capacitiva no secundário XC2 é de -0.3617157797543076j\n",
      "\n",
      "A reatância indutiva no primário XL1 é de 0.002764601535159018j\n",
      "A reatância indutiva no secundário XL2 é de 0.002764601535159018j\n"
     ]
    }
   ],
   "source": [
    "freq = 440 # definir\n",
    "w = 2*math.pi*freq\n",
    "Uf = 1 # definir\n",
    "k = 0.7 # chutar um valor - 0 a 1\n",
    "M = k*math.sqrt(L1*L2)\n",
    "\n",
    "# a freq de ressonância em LC tem de que ser igual nos dois conjuntos\n",
    "w_lc1 = math.sqrt(1/L1*C1)\n",
    "w_lc2 = w_lc1 # são iguais porque os parâmetros do primário e secundário são iguais\n",
    "\n",
    "# Reatâncias capacitivas\n",
    "XC1 = 1/(1j*w*C1)\n",
    "XC2 #= XC1\n",
    "\n",
    "# Reatâncias indutivas\n",
    "XL1 = 1j*w*L1\n",
    "XL2 = XL1\n",
    "\n",
    "# Reatância indutiva (da mútua)\n",
    "XM = 1j*w*M\n",
    "\n",
    "print(f\"A reatância capacitiva no primário XC1 é de {XC1}\")\n",
    "print(f\"A reatância capacitiva no secundário XC2 é de {XC2}\\n\")\n",
    "\n",
    "print(f\"A reatância indutiva no primário XL1 é de {XL1}\")\n",
    "print(f\"A reatância indutiva no secundário XL2 é de {XL2}\")"
   ]
  },
  {
   "cell_type": "code",
   "execution_count": 77,
   "metadata": {},
   "outputs": [
    {
     "name": "stdout",
     "output_type": "stream",
     "text": [
      "A reatância total no primário X1 é de (1-361.7130151527724j)\n",
      "A reatância total no secundário X2 é de (2+2.7673661366941773j)\n",
      "\n",
      "A corrente no primário I1 é de:\n",
      "(7.643105223306782e-06+0.0027646015437440418j)\n",
      "A corrente no secundário I2 é de:\n",
      "(-4.698020436942963e-06-1.6478167956581016e-06j)\n"
     ]
    }
   ],
   "source": [
    "# Reatância total do circuito primário\n",
    "X1 = XL1 + XC1 + R1 # série\n",
    "\n",
    "# Reatância total do circuito secundário\n",
    "X2 = XL2 + R2 + (XC2+R2)/(XC2*R2) # paralelo\n",
    "\n",
    "print(f\"A reatância total no primário X1 é de {X1}\")\n",
    "print(f\"A reatância total no secundário X2 é de {X2}\\n\")\n",
    "\n",
    "'''\n",
    "As mudanças necessárias na matriz do cálculo das correntes do transformador são\n",
    "incluir os capacitores (em série no primário e em paralelo no secundário)\n",
    "\n",
    "No primário, somamos a reatância capacitiva aos outros valores de \n",
    "'''\n",
    "\n",
    "def CalcularTransformadorNovo(Uf, RC):\n",
    "    # calculando a reatância equivalente do primário (tudo em série)\n",
    "    X1 = R1+XL1+XC1\n",
    "\n",
    "    # calculando a reatância equivalente do paralelo\n",
    "    # entre RC e o capacitor 2\n",
    "    XRC = (RC*XC2)/(RC+XC2)\n",
    "\n",
    "    # somando isso à reatância indutiva e R2 (que representam a bobina)\n",
    "    # e que estão em série com o resto\n",
    "    X2 = XL2+R2+XRC\n",
    "\n",
    "    # criando a matriz da impedância\n",
    "    # (que envolve os fatores que multiplicam as correntes I1 e I2)\n",
    "    Z=np.array([[X1, -XM],[-XM, X2]])\n",
    "\n",
    "    # criando a matriz das tensões\n",
    "    V=np.array([Uf,0])\n",
    "\n",
    "    # calculando a multiplicação das duas matrizes anteriores, \n",
    "    # que resultam nas correntes que queremos encontrar\n",
    "    i=np.dot(np.linalg.inv(Z),V)\n",
    "\n",
    "    return i[0], i[1]\n",
    "\n",
    "# Calculando as correntes através das matrizes\n",
    "I1, I2 = CalcularTransformadorNovo(Uf, RC)\n",
    "print(f\"A corrente no primário I1 é de:\\n{I1}\")\n",
    "print(f\"A corrente no secundário I2 é de:\\n{I2}\")"
   ]
  },
  {
   "cell_type": "markdown",
   "metadata": {},
   "source": [
    "### 3) Construção de gráficos de I1 e I2 em função da frequência: \n",
    "\n",
    "Essa atividade consiste em fazer um gráfico dos módulos das correntes I1 e I2 em função \n",
    "da frequência da fonte, para um 𝑘 (coeficiente de acoplamento) qualquer inicialmente fixo.\n",
    "\n",
    "A frequência para a qual as correntes são máximas é coincidente com a frequência de ressonância \n",
    "que vocês obtiveram na atividade 1? \n",
    "\n",
    "O que acontece com os gráficos dos módulos das correntes \n",
    "quando se altera o 𝑘 do circuito? \n",
    "\n",
    "Documente os resultados que obtiveram, pensando em gráficos \n",
    "adicionais que possam esclarecer o funcionamento do circuito."
   ]
  },
  {
   "cell_type": "code",
   "execution_count": null,
   "metadata": {},
   "outputs": [],
   "source": [
    "# V2 - precisa adaptar porque agora tem o paralelo"
   ]
  },
  {
   "cell_type": "markdown",
   "metadata": {},
   "source": [
    "### 4) Construção de gráficos das potências e da eficiência em função da frequência: \n",
    "\n",
    "Por fim, a última atividade da Etapa 1 consiste em construir gráficos das potências reais de entrada e de saída em função da frequência. \n",
    "\n",
    "Além desses gráficos, vocês construirão um terceiro gráfico que relacionará a eficiência (ou o ganho de potência) do seu sistema com frequência da fonte. Documente os resultados que obtiveram, pensando em gráficos adicionais que possam esclarecer o funcionamento do circuito."
   ]
  },
  {
   "cell_type": "markdown",
   "metadata": {},
   "source": []
  },
  {
   "cell_type": "code",
   "execution_count": null,
   "metadata": {},
   "outputs": [],
   "source": []
  },
  {
   "cell_type": "markdown",
   "metadata": {},
   "source": [
    "## Etapa 2 – Presencial - Atividades\n",
    "\n",
    "1) Montagem do circuito de alimentação do primário\n",
    "\n",
    "2) Projeto das bobinas de transmissão e recepção\n",
    "\n",
    "3) Montagem das bobinas primária e secundária\n",
    "\n",
    "4) Atualização da simulação da Etapa 1\n",
    "\n",
    "5) Montagem do circuito WPT e medição das distâncias e potências transmitidas\n",
    "\n",
    "6) Preparação da apresentação do projeto, a ser realizada no dia 29/11"
   ]
  },
  {
   "cell_type": "markdown",
   "metadata": {},
   "source": [
    "### 1) Montagem do circuito de alimentação do primário: \n",
    "\n",
    "Pelo fato de o gerador de sinais não ter potência suficiente para alimentar a bobina primária do WPT, vamos precisar trabalhar com um circuito denominado “meia ponte” (ou half bridge), capaz de isolar a excitação na frequência de ressonância (circuito de controle), proveniente do gerador de sinais, da alimentação da bobina primária (circuito de potência). \n",
    "\n",
    "Observe o circuito que vamos montar na figura a seguir. \n",
    "\n",
    "Na entrada do circuito (pino 2 do IR2302) conectaremos o gerador de sinais ou o Arduíno, que deve fornecer um sinal de onda quadrada na frequência de ressonância (entre 0 𝑉 e 𝑉𝑐𝑐). \n",
    "\n",
    "O circuito integrado IR2302 controla o acionamento das chaves eletrônicas (MOSFETs), acionando-as alternadamente nos semiciclos nulo e positivo do sinal quadrado. Na montagem do circuito, é fundamental verificar o sinal de onda quadrada nos pontos de entrada e saída com o auxílio de um osciloscópio (esse sinal deve ir de 0 𝑉 a 𝑉𝑐𝑐, sendo\n",
    "𝑉𝑐𝑐 máximo igual a 5 𝑉). Perguntem aos professores e aos técnicos do LFI sobre o funcionamento desse circuito, não deixando de fazer anotações sobre ele, principalmente compreendo por que não é possível conectar o Arduíno ou o gerador de sinais diretamente à bobina primária.\n",
    "\n",
    "IMPORTANTE: todos os componentes para a montagem desse circuito encontram-se no LFI."
   ]
  },
  {
   "cell_type": "code",
   "execution_count": null,
   "metadata": {},
   "outputs": [],
   "source": []
  },
  {
   "cell_type": "markdown",
   "metadata": {},
   "source": [
    "### 2) Projeto das bobinas de transmissão e recepção: \n",
    "\n",
    "Seu grupo deve projetar as bobinas que serão utilizadas no circuito. \n",
    "\n",
    "Vocês devem decidir qual o formato, raio/largura, bitola do fio e número de voltas para certa indutância pretendida, além de definirem a frequência em que pretendem transmitir energia pelo ar (devido aos limites do circuito meia ponte, vamos limitar a frequência a um máximo de 50𝑘𝐻𝑧). \n",
    "\n",
    "Há inúmeros sites/artigos que fornecem equações ou permitem o cálculo aproximado da indutância de uma bobina com formato específico e com núcleo de ar. \n",
    "\n",
    "Os professores e os técnicos podem ajudar a escolher sites confiáveis ou equações já testadas em laboratório.\n",
    "\n",
    "Definidas a indutância e a frequência de operação, é possível calcular a capacitância dos capacitores\n",
    "𝐶1 e 𝐶2 de modo a que o sistema trabalhe na frequência de ressonância pretendida."
   ]
  },
  {
   "cell_type": "code",
   "execution_count": null,
   "metadata": {},
   "outputs": [],
   "source": []
  },
  {
   "cell_type": "markdown",
   "metadata": {},
   "source": [
    "### 3) Montagem das bobinas primária e secundária: \n",
    "\n",
    "Após estimar os valores de indutância usando equações e/ou softwares, assim como os valores de frequência e dos capacitores, vocês devem construir as bobinas e medir suas indutâncias e resistências usando o medidor LCR de alta precisão que temos no laboratório (certifiquem-se que estão medindo as indutâncias e as resistências das bobinas na\n",
    "frequência de operação do circuito de vocês). \n",
    "\n",
    "Será necessário adaptar o projeto aos componentes\n",
    "existentes, o que os pode levar a refazer/ajustar as bobinas. Quando maior a frequência, maiores os\n",
    "valores das resistências 𝑅1 e 𝑅2 das bobinas devido ao “efeito pelicular” (ou skin effect). \n",
    "\n",
    "Pesquisem sobre esse efeito."
   ]
  },
  {
   "cell_type": "code",
   "execution_count": null,
   "metadata": {},
   "outputs": [],
   "source": []
  },
  {
   "cell_type": "markdown",
   "metadata": {},
   "source": [
    "### 4) Atualização da simulação da Etapa 1: \n",
    "\n",
    "Como agora vocês têm os parâmetros medidos das bobinas e\n",
    "capacitores, devem atualizar os parâmetros do modelo construído na Etapa 1. \n",
    "\n",
    "Como estamos trabalhando com uma tensão quadrada na entrada da bobina primária, precisamos fazer uma pequena\n",
    "alteração na amplitude da função senoidal usada na simulação. \n",
    "\n",
    "Para isso, utilize a expressão:\n",
    "\n",
    "𝑽𝟏(𝒕) = 𝟐𝝅𝑽𝒑 𝒄𝒐𝒔(𝝎𝒕)\n",
    "\n",
    "Nessa expressão, 𝑉𝑝 é a amplitude da onda quadrada (alimentação dos MOSFETs). \n",
    "\n",
    "Os professores ficarão felizes em explicar por que isso é necessário."
   ]
  },
  {
   "cell_type": "code",
   "execution_count": null,
   "metadata": {},
   "outputs": [],
   "source": []
  },
  {
   "cell_type": "markdown",
   "metadata": {},
   "source": [
    "### 5) Montagem do circuito WPT e medição das distâncias e potências transmitidas: \n",
    "\n",
    "Nessa atividade, vocês conectarão as bobinas ao circuito e iniciarão o experimento, filmando as situações experimentadas para edição final de um vídeo demonstração. Comparem a medição da tensão 𝑉2( ) àquela simulada pelo modelo. \n",
    "\n",
    "Percebam que é possível ajustar o coeficiente de acoplamento de tal modo a calibrar o modelo frente às medições. \n",
    "\n",
    "É possível construir um circuito retificador simples, com quatro diodos e um capacitor eletrolítico, a ser conectado à saída do circuito secundário - tensão 𝑉2( ) -, de modo que\n",
    "uma carga DC possa ser conectada ao receptor WPT."
   ]
  },
  {
   "cell_type": "code",
   "execution_count": null,
   "metadata": {},
   "outputs": [],
   "source": []
  },
  {
   "cell_type": "markdown",
   "metadata": {},
   "source": [
    "### 6) Preparação da apresentação do projeto, a ser realizada no dia 29/11: \n",
    "\n",
    "Em 5 ou 6 slides, vocês devem explicar o circuito, o processo de construção das bobinas, as medições e validações realizadas. \n",
    "\n",
    "É muito\n",
    "importante que elaborem uma tabela com as medições das potências transmitidas e a que distâncias\n",
    "ocorreram as transmissões. Observem a tabela a seguir para orientação, a qual deve ser preenchida\n",
    "com um mínimo de 5 medições."
   ]
  },
  {
   "cell_type": "code",
   "execution_count": null,
   "metadata": {},
   "outputs": [],
   "source": []
  },
  {
   "cell_type": "code",
   "execution_count": 78,
   "metadata": {},
   "outputs": [],
   "source": [
    "# RASCUNHO\n",
    "def CalcularTransformador(Uf, RC):\n",
    "    Z=np.array([[R1+XL1, -XM],[-XM, XL2+R2+RC]])\n",
    "    V=np.array([Uf,0])\n",
    "    i=np.dot(np.linalg.inv(Z),V)\n",
    "    return i[0], i[1]"
   ]
  }
 ],
 "metadata": {
  "interpreter": {
   "hash": "398dc28c06ad810e77de546bbdfa897a6ee0b83e59a5207339dda01a7843e01d"
  },
  "kernelspec": {
   "display_name": "",
   "name": "python3"
  },
  "language_info": {
   "codemirror_mode": {
    "name": "ipython",
    "version": 3
   },
   "file_extension": ".py",
   "mimetype": "text/x-python",
   "name": "python",
   "nbconvert_exporter": "python",
   "pygments_lexer": "ipython3",
   "version": "3.7.3"
  }
 },
 "nbformat": 4,
 "nbformat_minor": 2
}
