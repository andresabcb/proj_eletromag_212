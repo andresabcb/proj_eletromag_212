{
 "cells": [
  {
   "cell_type": "markdown",
   "metadata": {},
   "source": [
    "# Projeto Eletromag 21.2\n",
    "\n",
    "## Ressonância magnética\n",
    "\n",
    "- Andresa Bicudo\n",
    "- Beatriz Cabral\n",
    "- Vitor Bandeira"
   ]
  },
  {
   "cell_type": "code",
   "execution_count": 4,
   "metadata": {},
   "outputs": [],
   "source": [
    "import math\n",
    "import cmath\n",
    "import numpy as np"
   ]
  },
  {
   "cell_type": "markdown",
   "metadata": {},
   "source": [
    "### 1) Elaboração do diagrama do modelo eletrodinâmico do circuito WPT: \n",
    "\n",
    "Essa atividade consiste em especificar, por meio de um circuito, o modelo eletrodinâmico WPT usando abordagem fasorial. \n",
    "\n",
    "Para isso, o modelo eletrodinâmico do transformador deve ser adaptado de modo a considerar o parâmetro\n",
    "𝑘 e os capacitores 𝐶1 e 𝐶2, lembrando que 𝑪𝟏 deve estarsérie com a bobina primária, e 𝑪𝟐 em paralelo\n",
    "com a secundária; no projeto, vamos considerar que as bobinas transmissora e receptora sejam iguais,\n",
    "ou seja, 𝐿1 = 𝐿2. \n",
    "\n",
    "Do mesmo modo, os capacitores também devem ser iguais (𝐶1 = 𝐶2), de modo que a\n",
    "frequência de ressonância dos conjuntos 𝐿𝐶 seja a mesma no primário e secundário. \n",
    "\n",
    "Pesquise sobre como calcular a frequência de ressonância de um conjunto 𝐿𝐶."
   ]
  },
  {
   "cell_type": "markdown",
   "metadata": {},
   "source": [
    "## Etapa 1:\n",
    "\n",
    "1) Elaboração do diagrama do modelo eletrodinâmico do circuito WPT\n",
    "\n",
    "2) Código do modelo numérico\n",
    "\n",
    "3) Construção de gráficos de I e I2 em função da frequência\n",
    "\n",
    "4) Construção de gráficos das potências e da eficiência em função da frequência"
   ]
  },
  {
   "cell_type": "code",
   "execution_count": 1,
   "metadata": {},
   "outputs": [
    {
     "name": "stdout",
     "output_type": "stream",
     "text": [
      "/bin/sh: -c: line 0: syntax error near unexpected token `('\r\n",
      "/bin/sh: -c: line 0: `[image info](./pictures/image.png)'\r\n"
     ]
    }
   ],
   "source": [
    "![image info](./pictures/image.png)"
   ]
  },
  {
   "cell_type": "code",
   "execution_count": 11,
   "metadata": {},
   "outputs": [
    {
     "name": "stdout",
     "output_type": "stream",
     "text": [
      "A capacitância no primário C1 é de 1 F (e está em série)\n",
      "A capacitância no secundário C2 é de 1 F (e está em paralelo)\n",
      "\n",
      "A indutância no primário L1 é de 1 H (e está em série)\n",
      "A indutância no secundário L2 é de 1 H (e está em paralelo)\n"
     ]
    }
   ],
   "source": [
    "RC = 10 # definir\n",
    "\n",
    "RC1 = # definir\n",
    "RC2 = RC1\n",
    "\n",
    "RL1 = # definir\n",
    "RL2 = RL1\n",
    "\n",
    "R1 = RC1 + RL1\n",
    "R2 = RC2 + RL2\n",
    "\n",
    "C1 = 1 # definir\n",
    "C2 = C1\n",
    "\n",
    "L1 = 1 # definir\n",
    "L2 = L1\n",
    "\n",
    "# a freq de ressonância em LC tem de que ser igual nos dois conjuntos\n",
    "\n",
    "print(f\"A capacitância no primário C1 é de {C1} F (e está em série)\")\n",
    "print(f\"A capacitância no secundário C2 é de {C2} F (e está em paralelo)\\n\")\n",
    "\n",
    "print(f\"A indutância no primário L1 é de {L1} H (e está em série)\")\n",
    "print(f\"A indutância no secundário L2 é de {L2} H (e está em paralelo)\")"
   ]
  },
  {
   "cell_type": "code",
   "execution_count": 12,
   "metadata": {},
   "outputs": [
    {
     "name": "stdout",
     "output_type": "stream",
     "text": [
      "A reatância capacitiva no primário XC1 é de -0.0003617157797543076j\n",
      "A reatância capacitiva no secundário XC2 é de -0.0003617157797543076j\n",
      "\n",
      "A reatância indutiva no primário XL1 é de 2764.601535159018j\n",
      "A reatância indutiva no secundário XL2 é de 2764.601535159018j\n"
     ]
    }
   ],
   "source": [
    "freq = 440 # definir\n",
    "w = 2*math.pi*freq\n",
    "Ufonte = 1 # definir\n",
    "M = sqrt(L1*L2)\n",
    "w_lc = sqrt(1/L*C)\n",
    "\n",
    "XC1 = 1/(1j*w*C1)\n",
    "XC2 = XC1\n",
    "\n",
    "XL1 = 1j*w*L1\n",
    "XL2 = XL1\n",
    "\n",
    "print(f\"A reatância capacitiva no primário XC1 é de {XC1}\")\n",
    "print(f\"A reatância capacitiva no secundário XC2 é de {XC2}\\n\")\n",
    "\n",
    "print(f\"A reatância indutiva no primário XL1 é de {XL1}\")\n",
    "print(f\"A reatância indutiva no secundário XL2 é de {XL2}\")"
   ]
  },
  {
   "cell_type": "markdown",
   "metadata": {},
   "source": [
    "### 2) Código do modelo numérico: \n",
    "\n",
    "Essa atividade consiste em escrever um código em Python que simule o modelo esquematizado no item anterior.\n",
    "\n",
    "O código deve usar como parâmetros os valores das indutâncias, capacitâncias e resistências das bobinas primária e secundária (neste momento, usem valores quaisquer, mas razoáveis do ponto de vista físico). \n",
    "\n",
    "Recomenda-se a utilização, como ponto de partida, do código em Python usado no laboratório 2. \n",
    "\n",
    "Documente seu código explicando cada etapa do cálculo. \n",
    "\n",
    "Para as simulações iniciais, adotem valores razoáveis para indutâncias, frequência, resistências e capacitâncias a serem utilizados."
   ]
  },
  {
   "cell_type": "code",
   "execution_count": null,
   "metadata": {},
   "outputs": [],
   "source": []
  },
  {
   "cell_type": "markdown",
   "metadata": {},
   "source": [
    "### 3) Construção de gráficos de I1 e I2 em função da frequência: \n",
    "\n",
    "Essa atividade consiste em fazer um gráfico dos módulos das correntes 𝑰̂𝟏 e 𝑰̂𝟐 em função \n",
    "da frequência da fonte, para um 𝑘 (coeficiente de acoplamento) qualquer inicialmente fixo.\n",
    "\n",
    "A frequência para a qual as correntes são máximas é coincidente com a frequência de ressonância \n",
    "que vocês obtiveram na atividade 1? \n",
    "\n",
    "O que acontece com os gráficos dos módulos das correntes \n",
    "quando se altera o 𝑘 do circuito? \n",
    "\n",
    "Documente os resultados que obtiveram, pensando em gráficos \n",
    "adicionais que possam esclarecer o funcionamento do circuito."
   ]
  },
  {
   "cell_type": "code",
   "execution_count": null,
   "metadata": {},
   "outputs": [],
   "source": []
  },
  {
   "cell_type": "markdown",
   "metadata": {},
   "source": [
    "### 4) Construção de gráficos das potências e da eficiência em função da frequência: \n",
    "\n",
    "Por fim, a última atividade da Etapa 1 consiste em construir gráficos das potências reais de entrada e de saída em função da frequência. \n",
    "\n",
    "Além desses gráficos, vocês construirão um terceiro gráfico que relacionará a eficiência (ou o ganho de potência) do seu sistema com frequência da fonte. Documente os resultados que obtiveram, pensando em gráficos adicionais que possam esclarecer o funcionamento do circuito."
   ]
  },
  {
   "cell_type": "code",
   "execution_count": null,
   "metadata": {},
   "outputs": [],
   "source": []
  },
  {
   "cell_type": "markdown",
   "metadata": {},
   "source": [
    "## Etapa 2 – Presencial - Atividades\n",
    "\n",
    "1) Montagem do circuito de alimentação do primário\n",
    "\n",
    "2) Projeto das bobinas de transmissão e recepção\n",
    "\n",
    "3) Montagem das bobinas primária e secundária\n",
    "\n",
    "4) Atualização da simulação da Etapa 1\n",
    "\n",
    "5) Montagem do circuito WPT e medição das distâncias e potências transmitidas\n",
    "\n",
    "6) Preparação da apresentação do projeto, a ser realizada no dia 29/11"
   ]
  },
  {
   "cell_type": "markdown",
   "metadata": {},
   "source": [
    "### 1) Montagem do circuito de alimentação do primário: \n",
    "\n",
    "Pelo fato de o gerador de sinais não ter potência suficiente para alimentar a bobina primária do WPT, vamos precisar trabalhar com um circuito denominado “meia ponte” (ou half bridge), capaz de isolar a excitação na frequência de ressonância (circuito de controle), proveniente do gerador de sinais, da alimentação da bobina primária (circuito de potência). \n",
    "\n",
    "Observe o circuito que vamos montar na figura a seguir. \n",
    "\n",
    "Na entrada do circuito (pino 2 do IR2302) conectaremos o gerador de sinais ou o Arduíno, que deve fornecer um sinal de onda quadrada na frequência de ressonância (entre 0 𝑉 e 𝑉𝑐𝑐). \n",
    "\n",
    "O circuito integrado IR2302 controla o acionamento das chaves eletrônicas (MOSFETs), acionando-as alternadamente nos semiciclos nulo e positivo do sinal quadrado. Na montagem do circuito, é fundamental verificar o sinal de onda quadrada nos pontos de entrada e saída com o auxílio de um osciloscópio (esse sinal deve ir de 0 𝑉 a 𝑉𝑐𝑐, sendo\n",
    "𝑉𝑐𝑐 máximo igual a 5 𝑉). Perguntem aos professores e aos técnicos do LFI sobre o funcionamento desse circuito, não deixando de fazer anotações sobre ele, principalmente compreendo por que não é possível conectar o Arduíno ou o gerador de sinais diretamente à bobina primária.\n",
    "\n",
    "IMPORTANTE: todos os componentes para a montagem desse circuito encontram-se no LFI."
   ]
  },
  {
   "cell_type": "code",
   "execution_count": null,
   "metadata": {},
   "outputs": [],
   "source": []
  },
  {
   "cell_type": "markdown",
   "metadata": {},
   "source": [
    "### 2) Projeto das bobinas de transmissão e recepção: \n",
    "\n",
    "Seu grupo deve projetar as bobinas que serão utilizadas no circuito. \n",
    "\n",
    "Vocês devem decidir qual o formato, raio/largura, bitola do fio e número de voltas para certa indutância pretendida, além de definirem a frequência em que pretendem transmitir energia pelo ar (devido aos limites do circuito meia ponte, vamos limitar a frequência a um máximo de 50𝑘𝐻𝑧). \n",
    "\n",
    "Há inúmeros sites/artigos que fornecem equações ou permitem o cálculo aproximado da indutância de uma bobina com formato específico e com núcleo de ar. \n",
    "\n",
    "Os professores e os técnicos podem ajudar a escolher sites confiáveis ou equações já testadas em laboratório.\n",
    "\n",
    "Definidas a indutância e a frequência de operação, é possível calcular a capacitância dos capacitores\n",
    "𝐶1 e 𝐶2 de modo a que o sistema trabalhe na frequência de ressonância pretendida."
   ]
  },
  {
   "cell_type": "code",
   "execution_count": null,
   "metadata": {},
   "outputs": [],
   "source": []
  },
  {
   "cell_type": "markdown",
   "metadata": {},
   "source": [
    "### 3) Montagem das bobinas primária e secundária: \n",
    "\n",
    "Após estimar os valores de indutância usando equações e/ou softwares, assim como os valores de frequência e dos capacitores, vocês devem construir as bobinas e medir suas indutâncias e resistências usando o medidor LCR de alta precisão que temos no laboratório (certifiquem-se que estão medindo as indutâncias e as resistências das bobinas na\n",
    "frequência de operação do circuito de vocês). \n",
    "\n",
    "Será necessário adaptar o projeto aos componentes\n",
    "existentes, o que os pode levar a refazer/ajustar as bobinas. Quando maior a frequência, maiores os\n",
    "valores das resistências 𝑅1 e 𝑅2 das bobinas devido ao “efeito pelicular” (ou skin effect). \n",
    "\n",
    "Pesquisem sobre esse efeito."
   ]
  },
  {
   "cell_type": "code",
   "execution_count": null,
   "metadata": {},
   "outputs": [],
   "source": []
  },
  {
   "cell_type": "markdown",
   "metadata": {},
   "source": [
    "### 4) Atualização da simulação da Etapa 1: \n",
    "\n",
    "Como agora vocês têm os parâmetros medidos das bobinas e\n",
    "capacitores, devem atualizar os parâmetros do modelo construído na Etapa 1. \n",
    "\n",
    "Como estamos trabalhando com uma tensão quadrada na entrada da bobina primária, precisamos fazer uma pequena\n",
    "alteração na amplitude da função senoidal usada na simulação. \n",
    "\n",
    "Para isso, utilize a expressão:\n",
    "\n",
    "𝑽𝟏(𝒕) = 𝟐𝝅𝑽𝒑 𝒄𝒐𝒔(𝝎𝒕)\n",
    "\n",
    "Nessa expressão, 𝑉𝑝 é a amplitude da onda quadrada (alimentação dos MOSFETs). \n",
    "\n",
    "Os professores ficarão felizes em explicar por que isso é necessário."
   ]
  },
  {
   "cell_type": "code",
   "execution_count": null,
   "metadata": {},
   "outputs": [],
   "source": []
  }
 ],
 "metadata": {
  "kernelspec": {
   "display_name": "Python 3",
   "language": "python",
   "name": "python3"
  },
  "language_info": {
   "codemirror_mode": {
    "name": "ipython",
    "version": 3
   },
   "file_extension": ".py",
   "mimetype": "text/x-python",
   "name": "python",
   "nbconvert_exporter": "python",
   "pygments_lexer": "ipython3",
   "version": "3.8.3"
  }
 },
 "nbformat": 4,
 "nbformat_minor": 2
}
