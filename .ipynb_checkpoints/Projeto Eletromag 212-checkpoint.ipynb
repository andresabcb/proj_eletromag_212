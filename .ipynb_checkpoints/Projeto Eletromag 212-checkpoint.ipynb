{
 "cells": [
  {
   "cell_type": "markdown",
   "metadata": {},
   "source": [
    "# Projeto Eletromag 21.2\n",
    "\n",
    "## Ressonância magnética\n",
    "\n",
    "- Andresa Bicudo\n",
    "- Beatriz Cabral\n",
    "- Vitor Bandeira"
   ]
  },
  {
   "cell_type": "code",
   "execution_count": 2,
   "metadata": {},
   "outputs": [],
   "source": [
    "from math import *\n",
    "from cmath import *\n",
    "import numpy as np\n",
    "import matplotlib.pyplot as plt\n",
    "from numpy import linalg"
   ]
  },
  {
   "cell_type": "markdown",
   "metadata": {},
   "source": [
    "## Etapa 1:\n",
    "\n",
    "1) Elaboração do diagrama do modelo eletrodinâmico do circuito WPT\n",
    "\n",
    "2) Código do modelo numérico\n",
    "\n",
    "3) Construção de gráficos de I e I2 em função da frequência\n",
    "\n",
    "4) Construção de gráficos das potências e da eficiência em função da frequência"
   ]
  },
  {
   "cell_type": "markdown",
   "metadata": {},
   "source": [
    "### 1) Elaboração do diagrama do modelo eletrodinâmico do circuito WPT: \n",
    "\n",
    "Essa atividade consiste em especificar, por meio de um circuito, o modelo eletrodinâmico WPT usando abordagem fasorial. \n",
    "\n",
    "Para isso, o modelo eletrodinâmico do transformador deve ser adaptado de modo a considerar o parâmetro\n",
    "𝑘 e os capacitores 𝐶1 e 𝐶2, lembrando que 𝑪𝟏 deve estarsérie com a bobina primária, e 𝑪𝟐 em paralelo\n",
    "com a secundária; no projeto, vamos considerar que as bobinas transmissora e receptora sejam iguais,\n",
    "ou seja, 𝐿1 = 𝐿2. \n",
    "\n",
    "Do mesmo modo, os capacitores também devem ser iguais (𝐶1 = 𝐶2), de modo que a\n",
    "frequência de ressonância dos conjuntos 𝐿𝐶 seja a mesma no primário e secundário. \n",
    "\n",
    "Pesquise sobre como calcular a frequência de ressonância de um conjunto 𝐿𝐶.\n",
    "\n",
    "Referências:\n",
    "\n",
    "- https://www.youtube.com/watch?v=OwI0FXA-NIY"
   ]
  },
  {
   "cell_type": "markdown",
   "metadata": {},
   "source": [
    "w = 1/sqrt(w*C)"
   ]
  },
  {
   "cell_type": "code",
   "execution_count": 3,
   "metadata": {},
   "outputs": [
    {
     "name": "stdout",
     "output_type": "stream",
     "text": [
      "/bin/sh: -c: line 0: syntax error near unexpected token `./img/circ.pdf'\r\n",
      "/bin/sh: -c: line 0: `[Circuito](./img/circ.pdf)'\r\n"
     ]
    }
   ],
   "source": [
    "![Circuito](./img/circ.pdf)"
   ]
  },
  {
   "cell_type": "markdown",
   "metadata": {},
   "source": [
    "### 2) Código do modelo numérico: \n",
    "\n",
    "Essa atividade consiste em escrever um código em Python que simule o modelo esquematizado no item anterior.\n",
    "\n",
    "O código deve usar como parâmetros os valores das indutâncias, capacitâncias e resistências das bobinas primária e secundária (neste momento, usem valores quaisquer, mas razoáveis do ponto de vista físico). \n",
    "\n",
    "Recomenda-se a utilização, como ponto de partida, do código em Python usado no laboratório 2. \n",
    "\n",
    "Documente seu código explicando cada etapa do cálculo. \n",
    "\n",
    "Para as simulações iniciais, adotem valores razoáveis para indutâncias, frequência, resistências e capacitâncias a serem utilizados."
   ]
  },
  {
   "cell_type": "code",
   "execution_count": 4,
   "metadata": {},
   "outputs": [
    {
     "name": "stdout",
     "output_type": "stream",
     "text": [
      "A capacitância no primário C1 é de 1e-07 F (e está em série)\n",
      "A capacitância no secundário C2 é de 1e-07 F (e está em paralelo)\n",
      "\n",
      "A indutância no primário L1 é de 0.0001 H (e está em série)\n",
      "A indutância no secundário L2 é de 0.0001 H (e está em paralelo)\n"
     ]
    }
   ],
   "source": [
    "# Resistência da carga a ser utilizada\n",
    "RC = 10\n",
    "\n",
    "# Resistências internas das bobinas\n",
    "R1 = 1 # definir\n",
    "R2 = R1\n",
    "\n",
    "# Capacitâncias (dos capacitores que vão gerar o efeito de ressonância)\n",
    "C1 = 0.1e-6 # definir\n",
    "C2 = C1\n",
    "\n",
    "# Indutâncias (dos indutores que fazem parte da bobina)\n",
    "L1 = 100e-6 # definir\n",
    "L2 = L1\n",
    "\n",
    "# Indutância mútua\n",
    "M = sqrt(L1*L2)\n",
    "\n",
    "print(f\"A capacitância no primário C1 é de {C1} F (e está em série)\")\n",
    "print(f\"A capacitância no secundário C2 é de {C2} F (e está em paralelo)\\n\")\n",
    "\n",
    "print(f\"A indutância no primário L1 é de {L1} H (e está em série)\")\n",
    "print(f\"A indutância no secundário L2 é de {L2} H (e está em paralelo)\")"
   ]
  },
  {
   "cell_type": "code",
   "execution_count": 5,
   "metadata": {},
   "outputs": [
    {
     "name": "stdout",
     "output_type": "stream",
     "text": [
      "A reatância capacitiva no primário XC1 é de -31.622776601683796j\n",
      "A reatância capacitiva no secundário XC2 é de -31.622776601683796j\n",
      "\n",
      "A reatância indutiva no primário XL1 é de 31.622776601683793j\n",
      "A reatância indutiva no secundário XL2 é de 31.622776601683793j\n",
      "Freq de ressonancia: (50329.21210448704+0j)\n"
     ]
    }
   ],
   "source": [
    "Uf = 1 # definir\n",
    "k = 0.7 # chutar um valor - 0 a 1\n",
    "M = k*sqrt(L1*L2)\n",
    "\n",
    "# a freq de ressonância em LC tem de que ser igual nos dois conjuntos\n",
    "w = sqrt(1/(L1*C1))\n",
    "w_lc1 = w\n",
    "w_lc2 = w # são iguais porque os p\n",
    "# parâmetros do primário e secundário são iguais\n",
    "\n",
    "\n",
    "# Reatâncias capacitivas\n",
    "XC1 = 1/(1j*w*C1)\n",
    "XC2 = XC1\n",
    "\n",
    "# Reatâncias indutivas\n",
    "XL1 = 1j*w*L1\n",
    "XL2 = XL1\n",
    "\n",
    "# Reatância indutiva (da mútua)\n",
    "XM = 1j*w*M\n",
    "\n",
    "print(f\"A reatância capacitiva no primário XC1 é de {XC1}\")\n",
    "print(f\"A reatância capacitiva no secundário XC2 é de {XC2}\\n\")\n",
    "\n",
    "print(f\"A reatância indutiva no primário XL1 é de {XL1}\")\n",
    "print(f\"A reatância indutiva no secundário XL2 é de {XL2}\")\n",
    "print(f\"Freq de ressonancia: {w_lc1/(2*pi)}\")"
   ]
  },
  {
   "cell_type": "code",
   "execution_count": 6,
   "metadata": {},
   "outputs": [
    {
     "ename": "NameError",
     "evalue": "name 'freq' is not defined",
     "output_type": "error",
     "traceback": [
      "\u001b[0;31m---------------------------------------------------------------------------\u001b[0m",
      "\u001b[0;31mNameError\u001b[0m                                 Traceback (most recent call last)",
      "\u001b[0;32m<ipython-input-6-b3e154398ffb>\u001b[0m in \u001b[0;36m<module>\u001b[0;34m\u001b[0m\n\u001b[1;32m     46\u001b[0m \u001b[0;34m\u001b[0m\u001b[0m\n\u001b[1;32m     47\u001b[0m \u001b[0;31m# Calculando as correntes através das matrizes\u001b[0m\u001b[0;34m\u001b[0m\u001b[0;34m\u001b[0m\u001b[0;34m\u001b[0m\u001b[0m\n\u001b[0;32m---> 48\u001b[0;31m \u001b[0mI1\u001b[0m\u001b[0;34m,\u001b[0m \u001b[0mI2\u001b[0m \u001b[0;34m=\u001b[0m \u001b[0mCalcularTransformadorNovo2\u001b[0m\u001b[0;34m(\u001b[0m\u001b[0mUf\u001b[0m\u001b[0;34m,\u001b[0m \u001b[0mRC\u001b[0m\u001b[0;34m,\u001b[0m \u001b[0mfreq\u001b[0m\u001b[0;34m,\u001b[0m \u001b[0mk\u001b[0m\u001b[0;34m)\u001b[0m\u001b[0;34m\u001b[0m\u001b[0;34m\u001b[0m\u001b[0m\n\u001b[0m\u001b[1;32m     49\u001b[0m \u001b[0mprint\u001b[0m\u001b[0;34m(\u001b[0m\u001b[0;34mf\"A corrente no primário I1 é de:\\n{I1}\"\u001b[0m\u001b[0;34m)\u001b[0m\u001b[0;34m\u001b[0m\u001b[0;34m\u001b[0m\u001b[0m\n\u001b[1;32m     50\u001b[0m \u001b[0mprint\u001b[0m\u001b[0;34m(\u001b[0m\u001b[0;34mf\"A corrente no secundário I2 é de:\\n{I2}\"\u001b[0m\u001b[0;34m)\u001b[0m\u001b[0;34m\u001b[0m\u001b[0;34m\u001b[0m\u001b[0m\n",
      "\u001b[0;31mNameError\u001b[0m: name 'freq' is not defined"
     ]
    }
   ],
   "source": [
    "# adaptando para receber outros fatores\n",
    "def CalcularTransformadorNovo2(Uf, RC, freq, k):\n",
    "    '''\n",
    "    Os parâmetros L1, L2, C1, C2 são variáveis globais\n",
    "    Considerando que L1 = L2 e C1 = C2\n",
    "    '''\n",
    "\n",
    "    # para variar a frequência\n",
    "    w = 2*pi*freq\n",
    "    M = k*sqrt(L1*L2)\n",
    "\n",
    "    # Reatâncias capacitivas\n",
    "    XC1 = 1/(1j*w*C1)\n",
    "    XC2 = XC1\n",
    "\n",
    "    # Reatâncias indutivas\n",
    "    XL1 = 1j*w*L1\n",
    "    XL2 = XL1\n",
    "\n",
    "    # Reatância indutiva (da mútua)\n",
    "    XM = 1j*w*M\n",
    "\n",
    "    # calculando a reatância equivalente do primário (tudo em série)\n",
    "    X1 = R1+XL1+XC1\n",
    "\n",
    "    # calculando a reatância equivalente do paralelo\n",
    "    # entre RC e o capacitor 2\n",
    "    XRC = (RC*XC2)/(RC+XC2)\n",
    "\n",
    "    # somando isso à reatância indutiva e R2 (que representam a bobina)\n",
    "    # e que estão em série com o resto\n",
    "    X2 = XL2+R2+XRC\n",
    "\n",
    "    # criando a matriz da impedância\n",
    "    # (que envolve os fatores que multiplicam as correntes I1 e I2)\n",
    "    Z=np.array([[X1, -XM],[-XM, X2]])\n",
    "\n",
    "    # criando a matriz das tensões\n",
    "    V=np.array([Uf,0])\n",
    "\n",
    "    # calculando a multiplicação das duas matrizes anteriores, \n",
    "    # que resultam nas correntes que queremos encontrar\n",
    "    i=np.dot(np.linalg.inv(Z),V)\n",
    "\n",
    "    return i[0], i[1]\n",
    "\n",
    "# Calculando as correntes através das matrizes\n",
    "# I1, I2 = CalcularTransformadorNovo2(Uf, RC, freq, k)\n",
    "# print(f\"A corrente no primário I1 é de:\\n{I1}\")\n",
    "# print(f\"A corrente no secundário I2 é de:\\n{I2}\")"
   ]
  },
  {
   "cell_type": "markdown",
   "metadata": {},
   "source": [
    "### 3) Construção de gráficos de I1 e I2 em função da frequência: \n",
    "\n",
    "Essa atividade consiste em fazer um gráfico dos módulos das correntes I1 e I2 em função \n",
    "da frequência da fonte, para um 𝑘 (coeficiente de acoplamento) qualquer inicialmente fixo.\n",
    "\n",
    "A frequência para a qual as correntes são máximas é coincidente com a frequência de ressonância \n",
    "que vocês obtiveram na atividade 1? \n",
    "\n",
    "O que acontece com os gráficos dos módulos das correntes \n",
    "quando se altera o 𝑘 do circuito? \n",
    "\n",
    "Documente os resultados que obtiveram, pensando em gráficos \n",
    "adicionais que possam esclarecer o funcionamento do circuito."
   ]
  },
  {
   "cell_type": "code",
   "execution_count": null,
   "metadata": {},
   "outputs": [],
   "source": [
    "# V2 - precisa adaptar porque agora tem o paralelo\n",
    "# 200 k Hz\n",
    "lista_freq = np.linspace(1e3, 50e3, 10000)\n",
    "lista_i1 = []\n",
    "lista_i2 = []\n",
    "\n",
    "'''\n",
    "Quanto menor o k, menor a transmissão da \n",
    "frequência para o secundário\n",
    "\n",
    "(confirmar)\n",
    "'''\n",
    "\n",
    "for f in lista_freq:\n",
    "    i1, i2 = CalcularTransformadorNovo2(Uf, RC, f, 0.2)\n",
    "    lista_i1.append(abs(i1))\n",
    "    lista_i2.append(abs(i2))\n",
    "\n",
    "# k fixo inicialmente\n",
    "plt.plot(lista_freq,lista_i1)\n",
    "plt.title(\"I x Frequência da fonte com k=0.2\")\n",
    "plt.ylabel(\"I (A)\")\n",
    "plt.xlabel(\"frequência da fonte (Hz)\")\n",
    "#plt.legend([lista_i1, lista_i2], ['I1', 'I2'])\n",
    "plt.grid(True)\n",
    "\n",
    "plt.plot(lista_freq, lista_i2)\n",
    "plt.show()"
   ]
  },
  {
   "cell_type": "code",
   "execution_count": null,
   "metadata": {},
   "outputs": [],
   "source": [
    "'''\n",
    "Criando uma lista para as legendas do gráfico\n",
    "'''\n",
    "lista_k = np.linspace(0, 1, 10)\n",
    "lista_legendas = []\n",
    "for k in lista_k:\n",
    "    legenda = str(\"k = {:.1f}\".format(k))\n",
    "    lista_legendas.append(legenda)\n",
    "\n",
    "'''\n",
    "For interno -  cria a lista de correntes\n",
    "For externo - varia o k para criar essa lista toda as vezes que o k muda\n",
    "plota no for externo\n",
    "'''\n",
    "\n",
    "for k_novo in lista_k:\n",
    "    lista_i1k = []\n",
    "    # lista_i2k = []\n",
    "    for f in lista_freq:\n",
    "        i1, i2 = CalcularTransformadorNovo2(Uf, RC, f, k_novo)\n",
    "        lista_i1k.append(abs(i1))\n",
    "        # lista_i2k.append(abs(i2))\n",
    "\n",
    "    # plot1 = plt.figure(1)\n",
    "    plt.plot(lista_freq, lista_i1k)\n",
    "    # plot2 = plt.figure(2)\n",
    "    # plt.plot(lista_freq, lista_i2k)\n",
    "\n",
    "plot1 = plt.figure(1)\n",
    "plt.title(\"I1 x Frequência da fonte (com k variável)\")\n",
    "plt.ylabel(\"I1 (A)\")\n",
    "plt.xlabel(\"Frequência da fonte (Hz)\")\n",
    "plt.legend(lista_legendas)\n",
    "plt.grid(True)\n",
    "\n",
    "# plot2 = plt.figure(2)\n",
    "# plt.title(\"I2 x Frequência da fonte (com k variável)\")\n",
    "# plt.ylabel(\"I2 (A)\")\n",
    "# plt.xlabel(\"Frequência da fonte (Hz)\")\n",
    "# plt.legend(lista_legendas)\n",
    "# plt.grid(True)\n",
    "\n",
    "plt.show()"
   ]
  },
  {
   "cell_type": "code",
   "execution_count": null,
   "metadata": {},
   "outputs": [],
   "source": [
    "for k_novo in lista_k:\n",
    "    lista_i2k = []\n",
    "    for f in lista_freq:\n",
    "        i1, i2 = CalcularTransformadorNovo2(Uf, RC, f, k_novo)\n",
    "        lista_i2k.append(abs(i2))\n",
    "\n",
    "    plt.plot(lista_freq, lista_i2k)\n",
    "\n",
    "plt.title(\"I2 x Frequência da fonte (com k variável)\")\n",
    "plt.ylabel(\"I2 (A)\")\n",
    "plt.xlabel(\"Frequência da fonte (Hz)\")\n",
    "plt.legend(lista_legendas)\n",
    "plt.grid(True)\n",
    "plt.show()"
   ]
  },
  {
   "cell_type": "markdown",
   "metadata": {},
   "source": [
    "### 4) Construção de gráficos das potências e da eficiência em função da frequência:\n",
    "Por fim, a última atividade da Etapa 1 consiste em construir gráficos das potências reais de entrada e de saída em função da frequência.\n",
    "\n",
    "Além desses gráficos, vocês construirão um terceiro gráfico que relacionará a eficiência (ou o ganho de potência) do seu sistema com frequência da fonte. Documente os resultados que obtiveram, pensando em gráficos adicionais que possam esclarecer o funcionamento do circuito."
   ]
  },
  {
   "cell_type": "code",
   "execution_count": null,
   "metadata": {},
   "outputs": [],
   "source": [
    "def CalcularImpedanciaAntena(f, L, C, R, RC):\n",
    "    w = 2*pi*f\n",
    "    Z = R+1j*w*L+(((1/(1j*w*C))*RC)/((1/(1j*w*C))+RC))\n",
    "    return Z\n",
    "\n",
    "def Calcula_Potencia(V, i):\n",
    "    return V/sqrt(2)*i.conjugate()/sqrt(2)\n",
    "\n",
    "def calcula_eficiencia(S1,S2):\n",
    "    return S2.real/S1.real\n",
    "\n",
    "lista_iRC = []\n",
    "lista_eficiencia = []\n",
    "lista_potencia_carga = []\n",
    "\n",
    "for f in lista_freq:\n",
    "    i1, i2 = CalcularTransformadorNovo2(Uf, RC, f, 0.7)\n",
    "    w = 2*pi*f\n",
    "    P_f = (Calcula_Potencia(Uf, i1))\n",
    "    Z_eq_carga = ((1/(1j*w*C1))*RC)/((1/(1j*w*C1))+RC)\n",
    "    V_carga = i2*Z_eq_carga\n",
    "    I_RC = V_carga/RC\n",
    "    P_c = (Calcula_Potencia(V_carga, I_RC))\n",
    "    lista_potencia_carga.append(P_c)\n",
    "    lista_eficiencia.append(calcula_eficiencia(P_f, P_c))\n",
    "    #lista_iRC.append(abs(I_RC))\n",
    "\n",
    "plt.plot(lista_freq,lista_potencia_carga)\n",
    "plt.title(\"Potência x Frequência da fonte (com k=0.2)\")\n",
    "plt.ylabel(\"Potência(W)\")\n",
    "plt.xlabel(\"Frequência da fonte (Hz)\")\n",
    "plt.grid(True)\n",
    "plt.show()"
   ]
  },
  {
   "cell_type": "code",
   "execution_count": null,
   "metadata": {},
   "outputs": [],
   "source": [
    "plt.plot(lista_freq,lista_eficiencia)\n",
    "plt.title(\"Eficiencia x Frequência da fonte (com k=0.2)\")\n",
    "plt.ylabel(\"Eficiencia\")\n",
    "plt.xlabel(\"Frequência da fonte (Hz)\")\n",
    "plt.grid(True)\n",
    "plt.show()"
   ]
  },
  {
   "cell_type": "code",
   "execution_count": null,
   "metadata": {},
   "outputs": [],
   "source": [
    "'''\n",
    "Mesmo com o k sendo menor, \n",
    "consegue transmitir a maior potência\n",
    "'''\n",
    "\n",
    "# variando o k também\n",
    "for k_novo in lista_k:\n",
    "    lista_potencia_carga = []\n",
    "    for f in lista_freq:\n",
    "        i1, i2 = CalcularTransformadorNovo2(Uf, RC, f, k_novo)\n",
    "        w = 2*pi*f\n",
    "        P_f = (Calcula_Potencia(Uf, i1))\n",
    "        Z_eq_carga = (((1/(1j*w*C1))*RC)/((1/(1j*w*C1))+RC))\n",
    "        V_carga = i2*Z_eq_carga\n",
    "        I_RC = V_carga/RC\n",
    "        P_c = (Calcula_Potencia(V_carga, I_RC)).real\n",
    "        lista_potencia_carga.append(P_c)\n",
    "\n",
    "    plt.plot(lista_freq,lista_potencia_carga)\n",
    "\n",
    "plt.title(\"Potência x Frequência da fonte variando k\")\n",
    "plt.ylabel(\"Potência(W)\")\n",
    "plt.xlabel(\"Frequência da fonte (Hz)\")\n",
    "plt.legend(lista_legendas)\n",
    "plt.grid(True)\n",
    "plt.show()"
   ]
  },
  {
   "cell_type": "code",
   "execution_count": null,
   "metadata": {},
   "outputs": [],
   "source": [
    "# variando o k também\n",
    "\n",
    "'''\n",
    "O maior k é a maior eficiência\n",
    "(coerente)\n",
    "'''\n",
    "\n",
    "for k_novo in lista_k:\n",
    "    lista_eficiencia = []\n",
    "    for f in lista_freq:\n",
    "        i1, i2 = CalcularTransformadorNovo2(Uf, RC, f, k_novo)\n",
    "        w = 2*pi*f\n",
    "        P_f = (Calcula_Potencia(Uf, i1))\n",
    "        Z_eq_carga = (((1/(1j*w*C1))*RC)/((1/(1j*w*C1))+RC))\n",
    "        V_carga = i2*Z_eq_carga\n",
    "        I_RC = V_carga/RC\n",
    "        P_c = (Calcula_Potencia(V_carga, I_RC)).real\n",
    "        lista_eficiencia.append(calcula_eficiencia(P_f, P_c))\n",
    "\n",
    "    plt.plot(lista_freq,lista_eficiencia)\n",
    "\n",
    "plt.title(\"Eficiencia x Frequência da fonte\")\n",
    "plt.ylabel(\"Eficiencia\")\n",
    "plt.xlabel(\"Frequência da fonte (Hz)\")\n",
    "plt.legend(lista_legendas)\n",
    "plt.grid(True)\n",
    "plt.show()"
   ]
  },
  {
   "cell_type": "code",
   "execution_count": null,
   "metadata": {},
   "outputs": [],
   "source": []
  },
  {
   "cell_type": "markdown",
   "metadata": {},
   "source": [
    "## Etapa 2 – Presencial - Atividades\n",
    "\n",
    "1) Montagem do circuito de alimentação do primário\n",
    "\n",
    "2) Projeto das bobinas de transmissão e recepção\n",
    "\n",
    "3) Montagem das bobinas primária e secundária\n",
    "\n",
    "4) Atualização da simulação da Etapa 1\n",
    "\n",
    "5) Montagem do circuito WPT e medição das distâncias e potências transmitidas\n",
    "\n",
    "6) Preparação da apresentação do projeto, a ser realizada no dia 29/11"
   ]
  },
  {
   "cell_type": "markdown",
   "metadata": {},
   "source": [
    "```py\n",
    "Quanto maior o raio da bobina, maior é o k*\n",
    "Fio encapado 6mm (de chuveiro) - ideal\n",
    "Porque fio fino é ruim (muita resistência)\n",
    "\n",
    "Software que calcula a indutância\n",
    "\n",
    "Quanto menor a frequência, menos o R1 e R2 aumentam\n",
    "\n",
    "Uma frequência muito alta vai aumentar o R1 e R2\n",
    "\n",
    "Uma bobina maior reflete uma frequência menor - qto maior a indutância menor a frequência\n",
    "```"
   ]
  },
  {
   "cell_type": "code",
   "execution_count": null,
   "metadata": {},
   "outputs": [],
   "source": [
    "# Calcular potencia"
   ]
  },
  {
   "cell_type": "markdown",
   "metadata": {},
   "source": [
    "### 1) Montagem do circuito de alimentação do primário: \n",
    "\n",
    "Pelo fato de o gerador de sinais não ter potência suficiente para alimentar a bobina primária do WPT, vamos precisar trabalhar com um circuito denominado “meia ponte” (ou half bridge), capaz de isolar a excitação na frequência de ressonância (circuito de controle), proveniente do gerador de sinais, da alimentação da bobina primária (circuito de potência). \n",
    "\n",
    "Observe o circuito que vamos montar na figura a seguir. \n",
    "\n",
    "Na entrada do circuito (pino 2 do IR2302) conectaremos o gerador de sinais ou o Arduíno, que deve fornecer um sinal de onda quadrada na frequência de ressonância (entre 0 𝑉 e 𝑉𝑐𝑐). \n",
    "\n",
    "O circuito integrado IR2302 controla o acionamento das chaves eletrônicas (MOSFETs), acionando-as alternadamente nos semiciclos nulo e positivo do sinal quadrado. Na montagem do circuito, é fundamental verificar o sinal de onda quadrada nos pontos de entrada e saída com o auxílio de um osciloscópio (esse sinal deve ir de 0 𝑉 a 𝑉𝑐𝑐, sendo\n",
    "𝑉𝑐𝑐 máximo igual a 5 𝑉). Perguntem aos professores e aos técnicos do LFI sobre o funcionamento desse circuito, não deixando de fazer anotações sobre ele, principalmente compreendo por que não é possível conectar o Arduíno ou o gerador de sinais diretamente à bobina primária.\n",
    "\n",
    "IMPORTANTE: todos os componentes para a montagem desse circuito encontram-se no LFI."
   ]
  },
  {
   "cell_type": "code",
   "execution_count": null,
   "metadata": {},
   "outputs": [],
   "source": [
    "'''\n",
    "Montado\n",
    "'''"
   ]
  },
  {
   "cell_type": "markdown",
   "metadata": {},
   "source": [
    "### 2) Projeto das bobinas de transmissão e recepção: \n",
    "Seu grupo deve projetar as bobinas que serão\n",
    "utilizadas no circuito. Vocês devem decidir qual o formato, raio/largura, largura do fio e número de\n",
    "voltas para certa indutância pretendida, além de definirem a frequência em que pretendem transmitir\n",
    "energia pelo ar (devido aos limites do circuito meia ponte, vamos limitar a frequência a um máximo\n",
    "de 50𝑘𝐻𝑧). Há inúmeros sites/artigos que fornecem equações ou permitem o cálculo aproximado da\n",
    "indutância de uma bobina com formato específico e com núcleo de ar. Os professores e os técnicos\n",
    "podem ajudar a escolher sites confiáveis ou equações já testadas em laboratório.\n",
    "Definidas a indutância e a frequência de operação, é possível calcular a capacitância dos capacitores\n",
    "𝐶1 e 𝐶2 de modo a que o sistema trabalhe na frequência de ressonância pretendida."
   ]
  },
  {
   "cell_type": "code",
   "execution_count": null,
   "metadata": {},
   "outputs": [],
   "source": [
    "'''\n",
    "Circuito e bobinas montadas\n",
    "'''"
   ]
  },
  {
   "cell_type": "markdown",
   "metadata": {},
   "source": [
    "### 3) Montagem das bobinas primária e secundária: \n",
    "\n",
    "Após estimar os valores de indutância usando equações e/ou softwares, assim como os valores de frequência e dos capacitores, vocês devem construir as bobinas e medir suas indutâncias e resistências usando o medidor LCR de alta precisão que temos no laboratório (certifiquem-se que estão medindo as indutâncias e as resistências das bobinas na\n",
    "frequência de operação do circuito de vocês). \n",
    "\n",
    "Será necessário adaptar o projeto aos componentes\n",
    "existentes, o que os pode levar a refazer/ajustar as bobinas. Quando maior a frequência, maiores os\n",
    "valores das resistências 𝑅1 e 𝑅2 das bobinas devido ao “efeito pelicular” (ou skin effect). \n",
    "\n",
    "Pesquisem sobre esse efeito."
   ]
  },
  {
   "cell_type": "code",
   "execution_count": null,
   "metadata": {},
   "outputs": [],
   "source": [
    "Ls1 = 104.1e-6\n",
    "R1 = 103.9e-3\n",
    "\n",
    "Ls2 = 102.8e-6\n",
    "R2 = 88.21e-3"
   ]
  },
  {
   "cell_type": "markdown",
   "metadata": {},
   "source": [
    "### 4) Atualização da simulação da Etapa 1: \n",
    "\n",
    "Como agora vocês têm os parâmetros medidos das bobinas e\n",
    "capacitores, devem atualizar os parâmetros do modelo construído na Etapa 1. \n",
    "\n",
    "Como estamos trabalhando com uma tensão quadrada na entrada da bobina primária, precisamos fazer uma pequena\n",
    "alteração na amplitude da função senoidal usada na simulação. \n",
    "\n",
    "Para isso, utilize a expressão:\n",
    "\n",
    "𝑽𝟏(𝒕) = 𝟐𝝅𝑽𝒑 𝒄𝒐𝒔(𝝎𝒕)\n",
    "\n",
    "Nessa expressão, 𝑉𝑝 é a amplitude da onda quadrada (alimentação dos MOSFETs). \n",
    "\n",
    "Os professores ficarão felizes em explicar por que isso é necessário."
   ]
  },
  {
   "cell_type": "code",
   "execution_count": null,
   "metadata": {},
   "outputs": [],
   "source": []
  },
  {
   "cell_type": "markdown",
   "metadata": {},
   "source": [
    "### 5) Montagem do circuito WPT e medição das distâncias e potências transmitidas: \n",
    "\n",
    "Nessa atividade, vocês conectarão as bobinas ao circuito e iniciarão o experimento, filmando as situações experimentadas para edição final de um vídeo demonstração. Comparem a medição da tensão 𝑉2( ) àquela simulada pelo modelo. \n",
    "\n",
    "Percebam que é possível ajustar o coeficiente de acoplamento de tal modo a calibrar o modelo frente às medições. \n",
    "\n",
    "É possível construir um circuito retificador simples, com quatro diodos e um capacitor eletrolítico, a ser conectado à saída do circuito secundário - tensão 𝑉2( ) -, de modo que\n",
    "uma carga DC possa ser conectada ao receptor WPT."
   ]
  },
  {
   "cell_type": "code",
   "execution_count": null,
   "metadata": {},
   "outputs": [],
   "source": []
  },
  {
   "cell_type": "markdown",
   "metadata": {},
   "source": [
    "### 6) Preparação da apresentação do projeto, a ser realizada no dia 29/11: \n",
    "\n",
    "Em 5 ou 6 slides, vocês devem explicar o circuito, o processo de construção das bobinas, as medições e validações realizadas. \n",
    "\n",
    "É muito\n",
    "importante que elaborem uma tabela com as medições das potências transmitidas e a que distâncias\n",
    "ocorreram as transmissões. Observem a tabela a seguir para orientação, a qual deve ser preenchida\n",
    "com um mínimo de 5 medições."
   ]
  },
  {
   "cell_type": "code",
   "execution_count": null,
   "metadata": {},
   "outputs": [],
   "source": []
  },
  {
   "cell_type": "markdown",
   "metadata": {},
   "source": [
    "### RASCUNHO"
   ]
  },
  {
   "cell_type": "code",
   "execution_count": null,
   "metadata": {},
   "outputs": [],
   "source": [
    "# RASCUNHO\n",
    "def CalcularTransformador(Uf, RC):\n",
    "    Z=np.array([[R1+XL1, -XM],[-XM, XL2+R2+RC]])\n",
    "    V=np.array([Uf,0])\n",
    "    i=np.dot(np.linalg.inv(Z),V)\n",
    "    return i[0], i[1]\n",
    "\n",
    "# Reatância total do circuito primário\n",
    "X1 = XL1 + XC1 + R1 # série\n",
    "\n",
    "# Reatância total do circuito secundário\n",
    "X2 = XL2 + R2 + (XC2+R2)/(XC2*R2) # paralelo\n",
    "\n",
    "print(f\"A reatância total no primário X1 é de {X1}\")\n",
    "print(f\"A reatância total no secundário X2 é de {X2}\\n\")\n",
    "\n",
    "'''\n",
    "As mudanças necessárias na matriz do cálculo das correntes do transformador são\n",
    "incluir os capacitores (em série no primário e em paralelo no secundário)\n",
    "\n",
    "No primário, somamos a reatância capacitiva aos outros valores de \n",
    "'''\n",
    "\n",
    "def CalcularTransformadorNovo(Uf, RC, freq):\n",
    "    \n",
    "    # calculando a reatância equivalente do primário (tudo em série)\n",
    "    X1 = R1+XL1+XC1\n",
    "\n",
    "    # calculando a reatância equivalente do paralelo\n",
    "    # entre RC e o capacitor 2\n",
    "    XRC = (RC*XC2)/(RC+XC2)\n",
    "\n",
    "    # somando isso à reatância indutiva e R2 (que representam a bobina)\n",
    "    # e que estão em série com o resto\n",
    "    X2 = XL2+R2+XRC\n",
    "\n",
    "    # criando a matriz da impedância\n",
    "    # (que envolve os fatores que multiplicam as correntes I1 e I2)\n",
    "    Z=np.array([[X1, -XM],[-XM, X2]])\n",
    "\n",
    "    # criando a matriz das tensões\n",
    "    V=np.array([Uf,0])\n",
    "\n",
    "    # calculando a multiplicação das duas matrizes anteriores, \n",
    "    # que resultam nas correntes que queremos encontrar\n",
    "    i=np.dot(np.linalg.inv(Z),V)\n",
    "\n",
    "    return i[0], i[1]\n",
    "\n",
    "# Calculando as correntes através das matrizes\n",
    "# I1, I2 = CalcularTransformadorNovo(Uf, RC)\n",
    "# print(f\"A corrente no primário I1 é de:\\n{I1}\")\n",
    "# print(f\"A corrente no secundário I2 é de:\\n{I2}\")"
   ]
  },
  {
   "cell_type": "code",
   "execution_count": null,
   "metadata": {},
   "outputs": [],
   "source": [
    "def CalcularImpedanciaAntena(f, L, C, R, RC):\n",
    "    w = 2*pi*f\n",
    "    Z = R+1j*w*L+(((1/(1j*w*C))*RC)/((1/(1j*w*C))+RC))\n",
    "    return Z\n",
    "\n",
    "Z = []\n",
    "for i in range(len(lista_freq)):\n",
    "    Z.append(CalcularImpedanciaAntena(lista_freq[i], L1, C1, R1, RC)) \n",
    "\n",
    "plt.plot(lista_freq, Z)\n",
    "#plt.ylim([-100,100])\n",
    "# plt.xlim([6e6, 10e6])\n",
    "plt.title(\"Impedância complexa em função da frequência\")\n",
    "plt.xlabel(\"Frequências [Hz]\")\n",
    "plt.ylabel(\"Impedância Imaginária\")\n",
    "plt.grid()\n",
    "plt.show()"
   ]
  },
  {
   "cell_type": "code",
   "execution_count": null,
   "metadata": {},
   "outputs": [],
   "source": []
  }
 ],
 "metadata": {
  "interpreter": {
   "hash": "398dc28c06ad810e77de546bbdfa897a6ee0b83e59a5207339dda01a7843e01d"
  },
  "kernelspec": {
   "display_name": "Python 3",
   "language": "python",
   "name": "python3"
  },
  "language_info": {
   "codemirror_mode": {
    "name": "ipython",
    "version": 3
   },
   "file_extension": ".py",
   "mimetype": "text/x-python",
   "name": "python",
   "nbconvert_exporter": "python",
   "pygments_lexer": "ipython3",
   "version": "3.7.4"
  }
 },
 "nbformat": 4,
 "nbformat_minor": 2
}
