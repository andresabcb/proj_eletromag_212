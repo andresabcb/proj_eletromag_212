{
 "cells": [
  {
   "cell_type": "markdown",
   "metadata": {},
   "source": [
    "## Revisão Eletromag\n",
    "\n",
    "### Comandos úteis\n",
    "\n",
    "Ver se precisa de cmath e math na frente ou não\n",
    "\n",
    "Pode abrir o Jupyter Console também"
   ]
  },
  {
   "cell_type": "code",
   "execution_count": 2,
   "metadata": {},
   "outputs": [],
   "source": [
    "# imports\n",
    "from math import *\n",
    "from cmath import *"
   ]
  },
  {
   "cell_type": "markdown",
   "metadata": {},
   "source": [
    "### RECT - cmath\n",
    "\n",
    "Devolve o número complexo com as coordenadas polares equivalentes a:\n",
    "\n",
    "r * (math.cos(phi) + math.sin(phi)*1j)"
   ]
  },
  {
   "cell_type": "code",
   "execution_count": 14,
   "metadata": {},
   "outputs": [
    {
     "name": "stdout",
     "output_type": "stream",
     "text": [
      "(1.5425144988758404-9.880316240928618j)\n"
     ]
    }
   ],
   "source": [
    "r = rect(10,30)\n",
    "print(r)"
   ]
  },
  {
   "cell_type": "markdown",
   "metadata": {},
   "source": [
    "### PHASE - cmath\n",
    "\n",
    "Returns the phase of a complex number"
   ]
  },
  {
   "cell_type": "code",
   "execution_count": 15,
   "metadata": {},
   "outputs": [
    {
     "name": "stdout",
     "output_type": "stream",
     "text": [
      "0.19739555984988075\n"
     ]
    }
   ],
   "source": [
    "p = phase(X)\n",
    "print(p)"
   ]
  },
  {
   "cell_type": "markdown",
   "metadata": {},
   "source": [
    "### DEGREES - math\n",
    "\n",
    "Transforma a fase em graus"
   ]
  },
  {
   "cell_type": "code",
   "execution_count": 16,
   "metadata": {},
   "outputs": [
    {
     "name": "stdout",
     "output_type": "stream",
     "text": [
      "11.309932474020213\n"
     ]
    }
   ],
   "source": [
    "d = degrees(p)\n",
    "print(d)"
   ]
  },
  {
   "cell_type": "markdown",
   "metadata": {},
   "source": [
    "### NÚMEROS COMPLEXOS"
   ]
  },
  {
   "cell_type": "code",
   "execution_count": 33,
   "metadata": {},
   "outputs": [
    {
     "name": "stdout",
     "output_type": "stream",
     "text": [
      "(10+2j)\n"
     ]
    }
   ],
   "source": [
    "X = 10 + 2j\n",
    "print(X)"
   ]
  },
  {
   "cell_type": "markdown",
   "metadata": {},
   "source": [
    "### ABS\n",
    "\n",
    "Módulo do número complexo (NÃO É A PARTE REAL)"
   ]
  },
  {
   "cell_type": "code",
   "execution_count": 34,
   "metadata": {},
   "outputs": [
    {
     "name": "stdout",
     "output_type": "stream",
     "text": [
      "10.198039027185569\n"
     ]
    }
   ],
   "source": [
    "# módulo de X\n",
    "Xabs = abs(X)\n",
    "print(Xabs)"
   ]
  },
  {
   "cell_type": "code",
   "execution_count": null,
   "metadata": {},
   "outputs": [],
   "source": [
    "degrees(phase(w))"
   ]
  },
  {
   "cell_type": "markdown",
   "metadata": {},
   "source": [
    "### EXEMPLO:\n",
    "\n",
    "Calculando a corrente (tensão sobre a impedância)"
   ]
  },
  {
   "cell_type": "code",
   "execution_count": 29,
   "metadata": {},
   "outputs": [
    {
     "name": "stdout",
     "output_type": "stream",
     "text": [
      "Número complexo\n",
      "(0.39603960396039606-0.039603960396039604j)\n",
      "\n",
      "Parte real\n",
      "0.3980148760839957\n",
      "\n",
      "Fase (em radianos)\n",
      "-0.09966865249116202\n",
      "\n",
      "Fase em graus\n",
      "-5.710593137499642\n"
     ]
    }
   ],
   "source": [
    "# V sendo 4 fase 0º\n",
    "\n",
    "w = 4/(10+1j)\n",
    "a = abs(w) # parte real\n",
    "p = phase(w)\n",
    "d = degrees(p) # o angulo\n",
    "\n",
    "print(\"Número complexo\\n{}\\n\".format(w))\n",
    "print(\"Parte real\\n{}\\n\".format(a))\n",
    "print(\"Fase (em radianos)\\n{}\\n\".format(p))\n",
    "print(\"Fase em graus\\n{}\".format(d))"
   ]
  },
  {
   "cell_type": "markdown",
   "metadata": {},
   "source": [
    "### RASCUNHO"
   ]
  },
  {
   "cell_type": "code",
   "execution_count": 30,
   "metadata": {},
   "outputs": [
    {
     "name": "stdout",
     "output_type": "stream",
     "text": [
      "(1.5425144988758404-9.880316240928618j)\n",
      "0.19739555984988075\n",
      "(0.44429220097800587+0j)\n",
      "11.309932474020213\n"
     ]
    },
    {
     "data": {
      "text/plain": [
       "-5.710593137499642"
      ]
     },
     "execution_count": 30,
     "metadata": {},
     "output_type": "execute_result"
    }
   ],
   "source": [
    "# usar j para as partes imaginárias\n",
    "\n",
    "X = 10 + 2j\n",
    "\n",
    "# cmath -------------------------------------------\n",
    "\n",
    "# converts polar coordinates to rectangular form of the complex number\n",
    "# it creates a complex number with phase and modulus\n",
    "r = rect(10,30)\n",
    "print(r)\n",
    "\n",
    "# returns the phase of a complex number\n",
    "p = phase(X)\n",
    "print(p)\n",
    "\n",
    "# math -------------------------------------------\n",
    "\n",
    "# encontra a raiz quadrada do número\n",
    "s = sqrt(p)\n",
    "print(s)\n",
    "\n",
    "# transforma de radianos para graus\n",
    "d = degrees(p)\n",
    "print(d)\n",
    "\n",
    "w = 4/(10+1j)\n",
    "abs(w) # parte real\n",
    "degrees(phase(w)) # o angulo"
   ]
  },
  {
   "cell_type": "code",
   "execution_count": null,
   "metadata": {},
   "outputs": [],
   "source": []
  }
 ],
 "metadata": {
  "kernelspec": {
   "display_name": "Python 3",
   "language": "python",
   "name": "python3"
  },
  "language_info": {
   "codemirror_mode": {
    "name": "ipython",
    "version": 3
   },
   "file_extension": ".py",
   "mimetype": "text/x-python",
   "name": "python",
   "nbconvert_exporter": "python",
   "pygments_lexer": "ipython3",
   "version": "3.7.4"
  }
 },
 "nbformat": 4,
 "nbformat_minor": 2
}
