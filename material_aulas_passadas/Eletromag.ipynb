{
 "cells": [
  {
   "cell_type": "markdown",
   "metadata": {},
   "source": [
    "## Condutores e Indutores em AC\n",
    "\n",
    "### Utilizando fasores - com jupyter qtconsole ou o notebook\n",
    "\n",
    "#### Comandos importantes:"
   ]
  },
  {
   "cell_type": "code",
   "execution_count": 10,
   "metadata": {},
   "outputs": [],
   "source": [
    "# imports\n",
    "from math import *\n",
    "from cmath import *"
   ]
  },
  {
   "cell_type": "code",
   "execution_count": 11,
   "metadata": {},
   "outputs": [
    {
     "ename": "NameError",
     "evalue": "name 'cmath' is not defined",
     "output_type": "error",
     "traceback": [
      "\u001b[0;31m---------------------------------------------------------------------------\u001b[0m",
      "\u001b[0;31mNameError\u001b[0m                                 Traceback (most recent call last)",
      "\u001b[0;32m<ipython-input-11-de087948af08>\u001b[0m in \u001b[0;36m<module>\u001b[0;34m\u001b[0m\n\u001b[1;32m      7\u001b[0m \u001b[0;31m# converts polar coordinates to rectangular form of the complex number\u001b[0m\u001b[0;34m\u001b[0m\u001b[0;34m\u001b[0m\u001b[0;34m\u001b[0m\u001b[0m\n\u001b[1;32m      8\u001b[0m \u001b[0;31m# it creates a complex number with phase and modulus\u001b[0m\u001b[0;34m\u001b[0m\u001b[0;34m\u001b[0m\u001b[0;34m\u001b[0m\u001b[0m\n\u001b[0;32m----> 9\u001b[0;31m \u001b[0mr\u001b[0m \u001b[0;34m=\u001b[0m \u001b[0mcmath\u001b[0m\u001b[0;34m.\u001b[0m\u001b[0mrect\u001b[0m\u001b[0;34m(\u001b[0m\u001b[0mX\u001b[0m\u001b[0;34m)\u001b[0m\u001b[0;34m\u001b[0m\u001b[0;34m\u001b[0m\u001b[0m\n\u001b[0m\u001b[1;32m     10\u001b[0m \u001b[0mprint\u001b[0m\u001b[0;34m(\u001b[0m\u001b[0mr\u001b[0m\u001b[0;34m)\u001b[0m\u001b[0;34m\u001b[0m\u001b[0;34m\u001b[0m\u001b[0m\n\u001b[1;32m     11\u001b[0m \u001b[0;34m\u001b[0m\u001b[0m\n",
      "\u001b[0;31mNameError\u001b[0m: name 'cmath' is not defined"
     ]
    }
   ],
   "source": [
    "# usar j para as partes imaginárias\n",
    "\n",
    "X = 10 + 2j\n",
    "\n",
    "# cmath -------------------------------------------\n",
    "\n",
    "# converts polar coordinates to rectangular form of the complex number\n",
    "# it creates a complex number with phase and modulus\n",
    "r = cmath.rect(X)\n",
    "print(r)\n",
    "\n",
    "# returns the phase of a complex number\n",
    "p = cmath.phase(X)\n",
    "print(p)\n",
    "\n",
    "# math -------------------------------------------\n",
    "\n",
    "# encontra a raiz quadrada do número\n",
    "s = math.sqrt(p)\n",
    "print(s)\n",
    "\n",
    "# transforma de radianos para graus\n",
    "d = math.degrees(p)\n",
    "print(d)\n",
    "\n",
    "w = 4/(10+1j)\n",
    "abs(w) # parte real\n",
    "math.degrees(cmath.phase(w)) # o angulo"
   ]
  },
  {
   "cell_type": "code",
   "execution_count": 12,
   "metadata": {},
   "outputs": [
    {
     "ename": "NameError",
     "evalue": "name 'math' is not defined",
     "output_type": "error",
     "traceback": [
      "\u001b[0;31m---------------------------------------------------------------------------\u001b[0m",
      "\u001b[0;31mNameError\u001b[0m                                 Traceback (most recent call last)",
      "\u001b[0;32m<ipython-input-12-1ae72b1a2b67>\u001b[0m in \u001b[0;36m<module>\u001b[0;34m\u001b[0m\n\u001b[0;32m----> 1\u001b[0;31m \u001b[0mw\u001b[0m \u001b[0;34m=\u001b[0m \u001b[0;36m2\u001b[0m\u001b[0;34m*\u001b[0m\u001b[0mmath\u001b[0m\u001b[0;34m.\u001b[0m\u001b[0mpi\u001b[0m\u001b[0;34m*\u001b[0m\u001b[0;36m60\u001b[0m \u001b[0;31m# velocidade angular\u001b[0m\u001b[0;34m\u001b[0m\u001b[0;34m\u001b[0m\u001b[0m\n\u001b[0m\u001b[1;32m      2\u001b[0m \u001b[0mC\u001b[0m \u001b[0;34m=\u001b[0m \u001b[0;36m100e-6\u001b[0m \u001b[0;31m# capacitância\u001b[0m\u001b[0;34m\u001b[0m\u001b[0;34m\u001b[0m\u001b[0m\n\u001b[1;32m      3\u001b[0m \u001b[0mL\u001b[0m \u001b[0;34m=\u001b[0m \u001b[0;36m100e-3\u001b[0m \u001b[0;31m# indutância\u001b[0m\u001b[0;34m\u001b[0m\u001b[0;34m\u001b[0m\u001b[0m\n\u001b[1;32m      4\u001b[0m \u001b[0mXc\u001b[0m \u001b[0;34m=\u001b[0m \u001b[0;36m1\u001b[0m\u001b[0;34m/\u001b[0m\u001b[0;34m(\u001b[0m\u001b[0;36m1j\u001b[0m\u001b[0;34m*\u001b[0m\u001b[0mw\u001b[0m\u001b[0;34m*\u001b[0m\u001b[0mC\u001b[0m\u001b[0;34m)\u001b[0m \u001b[0;31m# reatância do capacitor\u001b[0m\u001b[0;34m\u001b[0m\u001b[0;34m\u001b[0m\u001b[0m\n\u001b[1;32m      5\u001b[0m \u001b[0mXl\u001b[0m \u001b[0;34m=\u001b[0m \u001b[0;34m(\u001b[0m\u001b[0;36m1j\u001b[0m\u001b[0;34m*\u001b[0m\u001b[0mw\u001b[0m\u001b[0;34m*\u001b[0m\u001b[0mL\u001b[0m\u001b[0;34m)\u001b[0m \u001b[0;31m# reatância do indutor\u001b[0m\u001b[0;34m\u001b[0m\u001b[0;34m\u001b[0m\u001b[0m\n",
      "\u001b[0;31mNameError\u001b[0m: name 'math' is not defined"
     ]
    }
   ],
   "source": [
    "w = 2*math.pi*60 # velocidade angular\n",
    "C = 100e-6 # capacitância\n",
    "L = 100e-3 # indutância\n",
    "Xc = 1/(1j*w*C) # reatância do capacitor\n",
    "Xl = (1j*w*L) # reatância do indutor\n",
    "\n",
    "print(Xl)"
   ]
  },
  {
   "cell_type": "code",
   "execution_count": 21,
   "metadata": {},
   "outputs": [
    {
     "name": "stdout",
     "output_type": "stream",
     "text": [
      "(4+11.173287994428293j)\n"
     ]
    }
   ],
   "source": [
    "# impedância\n",
    "R = 4 # resistência do sistema\n",
    "Z = R + Xc + Xl\n",
    "\n",
    "print(Z)"
   ]
  },
  {
   "cell_type": "code",
   "execution_count": 22,
   "metadata": {},
   "outputs": [
    {
     "name": "stdout",
     "output_type": "stream",
     "text": [
      "(50+0j)\n",
      "(1.420027280562013-3.9665934414160495j)\n"
     ]
    }
   ],
   "source": [
    "V = cmath.rect(50,0) # cria um fasor na forma trigonométrica - tem fase e módulo\n",
    "print(V)\n",
    "I = V/Z\n",
    "print(I)"
   ]
  },
  {
   "cell_type": "code",
   "execution_count": 23,
   "metadata": {},
   "outputs": [
    {
     "data": {
      "text/plain": [
       "4.213115356482085"
      ]
     },
     "execution_count": 23,
     "metadata": {},
     "output_type": "execute_result"
    }
   ],
   "source": [
    "abs(I)"
   ]
  },
  {
   "cell_type": "code",
   "execution_count": 24,
   "metadata": {},
   "outputs": [
    {
     "data": {
      "text/plain": [
       "-70.30280125192664"
      ]
     },
     "execution_count": 24,
     "metadata": {},
     "output_type": "execute_result"
    }
   ],
   "source": [
    "math.degrees(cmath.phase(I))"
   ]
  },
  {
   "cell_type": "code",
   "execution_count": 27,
   "metadata": {},
   "outputs": [
    {
     "data": {
      "text/plain": [
       "1256637.0614359172"
      ]
     },
     "execution_count": 27,
     "metadata": {},
     "output_type": "execute_result"
    }
   ],
   "source": [
    "4e5*math.pi"
   ]
  },
  {
   "cell_type": "code",
   "execution_count": 29,
   "metadata": {},
   "outputs": [
    {
     "data": {
      "text/plain": [
       "1256637.0614359172"
      ]
     },
     "execution_count": 29,
     "metadata": {},
     "output_type": "execute_result"
    }
   ],
   "source": [
    "w = 200e3*2*math.pi\n",
    "w"
   ]
  },
  {
   "cell_type": "code",
   "execution_count": 43,
   "metadata": {},
   "outputs": [
    {
     "data": {
      "text/plain": [
       "(20+0j)"
      ]
     },
     "execution_count": 43,
     "metadata": {},
     "output_type": "execute_result"
    }
   ],
   "source": [
    "# Exercício 6 - Aula 9\n",
    "\n",
    "# Resistências em ohms\n",
    "# Indutâncias em Henry\n",
    "# Capacitâncias em Faraday\n",
    "\n",
    "w = 200e3*2*math.pi # 2pi freq\n",
    "R1 = 10\n",
    "L1 = 1e-6\n",
    "C1 = 1e-6\n",
    "R2 = 5\n",
    "R3 = 5\n",
    "L2 = 1e-6\n",
    "\n",
    "Up = 20 # tensão de pico\n",
    "Uf = cmath.rect(Up,0) # como a fase é zero vai dar 20\n",
    "Uf"
   ]
  },
  {
   "cell_type": "code",
   "execution_count": 48,
   "metadata": {},
   "outputs": [],
   "source": [
    "XL1 = 1j*w*L1\n",
    "XC1 = 1/(1j*w*C1)\n",
    "XL2 = 1j*w*L2\n",
    "\n",
    "Z1 = XC1 + R2 # série\n",
    "Z2 = 1/(1/R3+1/XL2) # paralelo\n",
    "\n",
    "Z3 = 1/(1/Z1+1/XL1)\n",
    "\n",
    "Zeq = R1 + Z3 + Z2"
   ]
  },
  {
   "cell_type": "code",
   "execution_count": 49,
   "metadata": {},
   "outputs": [],
   "source": [
    "I = Uf/Zeq"
   ]
  },
  {
   "cell_type": "code",
   "execution_count": null,
   "metadata": {},
   "outputs": [],
   "source": [
    "I1 = "
   ]
  },
  {
   "cell_type": "code",
   "execution_count": 50,
   "metadata": {},
   "outputs": [
    {
     "data": {
      "text/plain": [
       "1.8381617826198062"
      ]
     },
     "execution_count": 50,
     "metadata": {},
     "output_type": "execute_result"
    }
   ],
   "source": [
    "abs(I)"
   ]
  },
  {
   "cell_type": "code",
   "execution_count": 51,
   "metadata": {},
   "outputs": [
    {
     "data": {
      "text/plain": [
       "-12.795704716797905"
      ]
     },
     "execution_count": 51,
     "metadata": {},
     "output_type": "execute_result"
    }
   ],
   "source": [
    "# fase em radianos, portanto transformamos\n",
    "math.degrees(cmath.phase(I))"
   ]
  },
  {
   "cell_type": "code",
   "execution_count": 53,
   "metadata": {},
   "outputs": [
    {
     "data": {
      "text/plain": [
       "(17.925128000360253+4.071076034551937j)"
      ]
     },
     "execution_count": 53,
     "metadata": {},
     "output_type": "execute_result"
    }
   ],
   "source": [
    "# potência \n",
    "Uef = Uf/math.sqrt(2)\n",
    "Ief = I/math.sqrt(2)\n",
    "\n",
    "S=Uef*Ief.conjugate()\n",
    "S\n",
    "# a parte real é consumida\n",
    "# a parte imaginária é reativa"
   ]
  },
  {
   "cell_type": "code",
   "execution_count": 54,
   "metadata": {},
   "outputs": [
    {
     "data": {
      "text/plain": [
       "(17.925128000360253+4.071076034551937j)"
      ]
     },
     "execution_count": 54,
     "metadata": {},
     "output_type": "execute_result"
    }
   ],
   "source": [
    "# potência nos resistores\n",
    "UR1ef = R1 * Ief\n",
    "SR1 = UR1ef*Ief.conjugate()\n",
    "print(SR1)\n",
    "\n",
    "Ief1 = I1/math.sqrt(2)\n",
    "UR2ef = R2 * Ief1\n",
    "SR2 = UR2ef*Ief1.conjugate()\n",
    "print(SR2)"
   ]
  },
  {
   "cell_type": "code",
   "execution_count": 2,
   "metadata": {},
   "outputs": [],
   "source": [
    "# EXERCÍCIO 13 - Aula 10\n",
    "R1 = 4.5 # ohms\n",
    "L1 = 300e-3 # henry\n",
    "R2 = 1.5\n",
    "L2 = 30e-3\n",
    "\n",
    "#i1 = inicialmente zero\n",
    "#i2 e V2 = ?\n",
    "Uf = 20 # volts"
   ]
  },
  {
   "cell_type": "code",
   "execution_count": 3,
   "metadata": {},
   "outputs": [
    {
     "ename": "NameError",
     "evalue": "name 'math' is not defined",
     "output_type": "error",
     "traceback": [
      "\u001b[0;31m---------------------------------------------------------------------------\u001b[0m",
      "\u001b[0;31mNameError\u001b[0m                                 Traceback (most recent call last)",
      "\u001b[0;32m<ipython-input-3-b72735e1d078>\u001b[0m in \u001b[0;36m<module>\u001b[0;34m\u001b[0m\n\u001b[1;32m      1\u001b[0m \u001b[0mw\u001b[0m \u001b[0;34m=\u001b[0m \u001b[0;36m4\u001b[0m\u001b[0;34m/\u001b[0m\u001b[0;34m(\u001b[0m\u001b[0;36m10\u001b[0m\u001b[0;34m+\u001b[0m\u001b[0;36m1j\u001b[0m\u001b[0;34m)\u001b[0m\u001b[0;34m\u001b[0m\u001b[0;34m\u001b[0m\u001b[0m\n\u001b[1;32m      2\u001b[0m \u001b[0mabs\u001b[0m\u001b[0;34m(\u001b[0m\u001b[0mw\u001b[0m\u001b[0;34m)\u001b[0m \u001b[0;31m# parte real\u001b[0m\u001b[0;34m\u001b[0m\u001b[0;34m\u001b[0m\u001b[0m\n\u001b[0;32m----> 3\u001b[0;31m \u001b[0mmath\u001b[0m\u001b[0;34m.\u001b[0m\u001b[0mdegrees\u001b[0m\u001b[0;34m(\u001b[0m\u001b[0mcmath\u001b[0m\u001b[0;34m.\u001b[0m\u001b[0mphase\u001b[0m\u001b[0;34m(\u001b[0m\u001b[0mw\u001b[0m\u001b[0;34m)\u001b[0m\u001b[0;34m)\u001b[0m \u001b[0;31m# o angulo\u001b[0m\u001b[0;34m\u001b[0m\u001b[0;34m\u001b[0m\u001b[0m\n\u001b[0m",
      "\u001b[0;31mNameError\u001b[0m: name 'math' is not defined"
     ]
    }
   ],
   "source": [
    "w = 4/(10+1j)\n",
    "abs(w) # parte real\n",
    "math.degrees(cmath.phase(w)) # o angulo"
   ]
  },
  {
   "cell_type": "code",
   "execution_count": 14,
   "metadata": {},
   "outputs": [
    {
     "name": "stdout",
     "output_type": "stream",
     "text": [
      "0.0000\n",
      "0.0000000000\n"
     ]
    }
   ],
   "source": [
    "# HAGE\n",
    "\n",
    "w=4e5*pi\n",
    "R1=10\n",
    "L1=1e-6\n",
    "C1=1e-6\n",
    "R2=5\n",
    "R3=5\n",
    "L2=1e-6\n",
    "\n",
    "Xl1=1j*w*L1\n",
    "Xc1=1/(1j*w*C1)\n",
    "Xl2=1j*w*L2\n",
    "\n",
    "Z1=R2+Xc1\n",
    "Z2=1/(1/R3+1/Xl2)\n",
    "Z3=1/(1/Z1+1/Xl1)\n",
    "\n",
    "Uf=20\n",
    "\n",
    "I=Uf/(R1+Z3+Z2)\n",
    "abs(I)\n",
    "# Out[43]: 1.8381617826198062\n",
    "\n",
    "degrees(phase(I))\n",
    "# Out[44]: -12.795704716797905\n",
    "\n",
    "V3=I*Z3\n",
    "abs(V3)\n",
    "#Out[46]: 2.3291016988226154\n",
    "\n",
    "I2=V3/Xl1\n",
    "I1=V3/Z1\n",
    "I\n",
    "#Out[49]: (1.7925128000360255-0.40710760345519376j)\n",
    "\n",
    "I1+I2\n",
    "#Out[50]: (1.7925128000360255-0.40710760345519376j)\n",
    "\n",
    "V2=I*Z2\n",
    "I3=V2/R3\n",
    "I4=V2/Xl2\n",
    "I\n",
    "#Out[54]: (1.7925128000360255-0.40710760345519376j)\n",
    "\n",
    "I3+I4\n",
    "#Out[55]: (1.7925128000360255-0.4071076034551937j)\n",
    "\n",
    "Ufef=Uf/sqrt(2)\n",
    "Ief=I/sqrt(2)\n",
    "S=Ufef*Ief.conjugate()\n",
    "S\n",
    "#Out[59]: (17.925128000360253+4.071076034551937j)\n",
    "\n",
    "SR1=(R1*Ief)*Ief.conjugate()\n",
    "SR2=(R2*I1/sqrt(2))*(I1.conjugate()/sqrt(2))\n",
    "SR1\n",
    "#Out[63]: (16.894193695420118+0j)\n",
    "\n",
    "SR2\n",
    "#Out[64]: (0.5290699733631457-5.551115123125783e-17j)\n",
    "\n",
    "SR3=(R3*I3/sqrt(2))*I3.conjugate()/sqrt(2)\n",
    "SR1+SR2+SR3\n",
    "#Out[66]: (17.925128000360257-5.551115123125783e-17j)\n",
    "\n",
    "S\n",
    "#Out[67]: (17.925128000360253+4.071076034551937j)\n",
    "\n",
    "SR3\n",
    "#Out[68]: (0.5018643315769928+0j)\n",
    "\n",
    "SR3=(R3*I3/sqrt(2))*(I3.conjugate()/sqrt(2))\n",
    "SR3\n",
    "#Out[70]: (0.5018643315769928-2.7755575615628914e-17j)\n",
    "\n",
    "SR3.real\n",
    "#Out[71]: 0.5018643315769928\n",
    "\n",
    "SR3.imag\n",
    "#Out[72]: -2.7755575615628914e-17\n",
    "\n",
    "print(\"%.4f\" %abs(SR3.imag))\n",
    "#0.0000\n",
    "\n",
    "print(\"%.10f\" %abs(SR3.imag))\n",
    "#0.0000000000"
   ]
  },
  {
   "cell_type": "code",
   "execution_count": null,
   "metadata": {},
   "outputs": [],
   "source": []
  }
 ],
 "metadata": {
  "kernelspec": {
   "display_name": "Python 3",
   "language": "python",
   "name": "python3"
  },
  "language_info": {
   "codemirror_mode": {
    "name": "ipython",
    "version": 3
   },
   "file_extension": ".py",
   "mimetype": "text/x-python",
   "name": "python",
   "nbconvert_exporter": "python",
   "pygments_lexer": "ipython3",
   "version": "3.7.4"
  }
 },
 "nbformat": 4,
 "nbformat_minor": 2
}
