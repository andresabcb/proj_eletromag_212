{
 "cells": [
  {
   "cell_type": "markdown",
   "metadata": {},
   "source": [
    "## AI Eletromag"
   ]
  },
  {
   "cell_type": "markdown",
   "metadata": {},
   "source": [
    "### QUESTÃO 2"
   ]
  },
  {
   "cell_type": "code",
   "execution_count": 2,
   "metadata": {},
   "outputs": [
    {
     "name": "stdout",
     "output_type": "stream",
     "text": [
      "A corrente da fonte vale:\n",
      "(7.211538461538462-1.4423076923076923j)\n",
      "7.354355067681902\n"
     ]
    }
   ],
   "source": [
    "Vf = 150 # (fasorial)\n",
    "Zl = 12 + 10j\n",
    "Zc = 8 - 6j\n",
    "\n",
    "If = Vf/(Zl+Zc)\n",
    "If_abs = abs(If)\n",
    "print(\"A corrente da fonte vale:\\n{}\".format(If))\n",
    "print(If_abs)"
   ]
  },
  {
   "cell_type": "code",
   "execution_count": 5,
   "metadata": {},
   "outputs": [
    {
     "name": "stdout",
     "output_type": "stream",
     "text": [
      "A tensão é Vc equivale a:\n",
      "(49.03846153846154-54.807692307692314j)\n",
      "73.54355067681902\n"
     ]
    }
   ],
   "source": [
    "Ic = If\n",
    "Ic_abs = If_abs\n",
    "\n",
    "Vc = Zc*Ic\n",
    "Vc_abs = abs(Vc)\n",
    "print(\"A tensão é Vc equivale a:\\n{}\".format(Vc))\n",
    "print(Vc_abs)"
   ]
  },
  {
   "cell_type": "code",
   "execution_count": 7,
   "metadata": {},
   "outputs": [
    {
     "name": "stdout",
     "output_type": "stream",
     "text": [
      "A potência equivale a:\n",
      "(274.59319526627223-465.9763313609468j)\n",
      "540.8653846153848\n"
     ]
    }
   ],
   "source": [
    "S = Vc*Ic\n",
    "S_abs = abs(S)\n",
    "print(\"A potência equivale a:\\n{}\".format(S))\n",
    "print(S_abs)\n",
    "# potencia real é o 274..."
   ]
  },
  {
   "cell_type": "code",
   "execution_count": 10,
   "metadata": {},
   "outputs": [
    {
     "name": "stdout",
     "output_type": "stream",
     "text": [
      "O fator de potência equivale a:\n",
      "0.5076923076918043\n"
     ]
    }
   ],
   "source": [
    "P = 274.593195266\n",
    "FP = P/S_abs\n",
    "\n",
    "print(\"O fator de potência equivale a:\\n{}\".format(FP))"
   ]
  },
  {
   "cell_type": "markdown",
   "metadata": {},
   "source": [
    "### QUESTÃO 6"
   ]
  },
  {
   "cell_type": "code",
   "execution_count": 12,
   "metadata": {},
   "outputs": [
    {
     "name": "stdout",
     "output_type": "stream",
     "text": [
      "A impedância em 1 é:\n",
      "(7+24j)\n"
     ]
    }
   ],
   "source": [
    "# item b)\n",
    "# calculando Z1 no ensaio 2\n",
    "V1 = 10\n",
    "I1 = 0.112-0.384j\n",
    "Z1 = V1/I1\n",
    "\n",
    "print(\"A impedância em 1 é:\\n{}\".format(Z1))"
   ]
  },
  {
   "cell_type": "code",
   "execution_count": 14,
   "metadata": {},
   "outputs": [
    {
     "name": "stdout",
     "output_type": "stream",
     "text": [
      "0.06\n"
     ]
    }
   ],
   "source": [
    "#w = 100 # ensaio 2\n",
    "R1 = 7\n",
    "L1 = 24/100\n",
    "X1 = 24\n",
    "M = 0.12\n",
    "L2 = M**2/L1\n",
    "print(L2)"
   ]
  },
  {
   "cell_type": "code",
   "execution_count": 15,
   "metadata": {},
   "outputs": [
    {
     "name": "stdout",
     "output_type": "stream",
     "text": [
      "1.2\n"
     ]
    }
   ],
   "source": [
    "R2 = 9.36/7.8\n",
    "print(R2)"
   ]
  },
  {
   "cell_type": "code",
   "execution_count": 18,
   "metadata": {},
   "outputs": [],
   "source": [
    "# imports\n",
    "from math import *\n",
    "from cmath import *"
   ]
  },
  {
   "cell_type": "code",
   "execution_count": 22,
   "metadata": {},
   "outputs": [
    {
     "name": "stdout",
     "output_type": "stream",
     "text": [
      "(-57.103829072479584+45.09326673973662j)\n"
     ]
    }
   ],
   "source": [
    "w = 200\n",
    "L1 = 0.24\n",
    "XL11 = 1j*w*L1\n",
    "R1 = 7\n",
    "Z11 = XL11+R1\n",
    "I11 = rect(1.5,pi/3)\n",
    "V11 = Z11 * I11\n",
    "print(V11)"
   ]
  },
  {
   "cell_type": "code",
   "execution_count": 25,
   "metadata": {},
   "outputs": [
    {
     "name": "stdout",
     "output_type": "stream",
     "text": [
      "(-24.305555555555536-109.45598853386673j)\n"
     ]
    }
   ],
   "source": [
    "di1 = rect(1.5*200,5*pi/6)\n",
    "di2 = (V11 - 7/I11 - L1*di1)/-0.12\n",
    "print(di2)"
   ]
  },
  {
   "cell_type": "code",
   "execution_count": 26,
   "metadata": {},
   "outputs": [
    {
     "name": "stdout",
     "output_type": "stream",
     "text": [
      "-102.5198297972396\n"
     ]
    }
   ],
   "source": [
    "p = phase(di2)\n",
    "d = degrees(p)\n",
    "print(d)"
   ]
  },
  {
   "cell_type": "code",
   "execution_count": 27,
   "metadata": {},
   "outputs": [
    {
     "name": "stdout",
     "output_type": "stream",
     "text": [
      "112.12213633707735\n"
     ]
    }
   ],
   "source": [
    "abs(di2)\n",
    "print(abs(di2))"
   ]
  },
  {
   "cell_type": "code",
   "execution_count": null,
   "metadata": {},
   "outputs": [],
   "source": []
  }
 ],
 "metadata": {
  "kernelspec": {
   "display_name": "Python 3",
   "language": "python",
   "name": "python3"
  },
  "language_info": {
   "codemirror_mode": {
    "name": "ipython",
    "version": 3
   },
   "file_extension": ".py",
   "mimetype": "text/x-python",
   "name": "python",
   "nbconvert_exporter": "python",
   "pygments_lexer": "ipython3",
   "version": "3.7.4"
  }
 },
 "nbformat": 4,
 "nbformat_minor": 2
}
